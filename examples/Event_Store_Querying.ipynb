{
 "cells": [
  {
   "cell_type": "markdown",
   "metadata": {
    "deletable": true,
    "editable": true
   },
   "source": [
    "# Querying IBM Db2 Event Store\n",
    "IBM Db2 Event Store is a hybrid transactional/analytical processing (HTAP) system. This notebook will demonstrate the best practices for querying a table stored in IBM Db2 Event Store.\n",
    "\n",
    "***Pre-Req: Event_Store_Table_Creation***"
   ]
  },
  {
   "cell_type": "markdown",
   "metadata": {},
   "source": [
    "## Connect to IBM Db2 Event Store\n",
    "\n",
    "### Determine the IP address of your host\n",
    "\n",
    "Obtain the IP address of the host that you want to connect to by running the appropriate command for your operating system:\n",
    "\n",
    "* On Mac, run: `ifconfig`\n",
    "* On Windows, run: `ipconfig`\n",
    "* On Linux, run: `hostname -i`\n",
    "\n",
    "Edit the `HOST = \"XXX.XXX.XXX.XXX\"` value in the next cell to provide the IP address."
   ]
  },
  {
   "cell_type": "code",
   "execution_count": 2,
   "metadata": {
    "collapsed": true
   },
   "outputs": [],
   "source": [
    "# Set your host IP address\n",
    "HOST = \"XXX.XXX.XXX.XXX\"\n",
    "\n",
    "# Port will be 1100 for version 1.1.2 or later (5555 for version 1.1.1)\n",
    "PORT = \"1100\"\n",
    "\n",
    "# Database name\n",
    "DB_NAME = \"TESTDB\"\n",
    "\n",
    "# Table name\n",
    "TABLE_NAME = \"IOT_TEMPERATURE\""
   ]
  },
  {
   "cell_type": "markdown",
   "metadata": {
    "deletable": true,
    "editable": true
   },
   "source": [
    "## Import Python modules"
   ]
  },
  {
   "cell_type": "code",
   "execution_count": 3,
   "metadata": {
    "collapsed": false,
    "deletable": true,
    "editable": true
   },
   "outputs": [],
   "source": [
    "from eventstore.common import ConfigurationReader\n",
    "from eventstore.oltp import EventContext\n",
    "from eventstore.sql import EventSession\n",
    "from pyspark.sql import SparkSession"
   ]
  },
  {
   "cell_type": "markdown",
   "metadata": {},
   "source": [
    "## Connect to Event Store"
   ]
  },
  {
   "cell_type": "code",
   "execution_count": 4,
   "metadata": {
    "collapsed": false
   },
   "outputs": [
    {
     "name": "stdout",
     "output_type": "stream",
     "text": [
      "Event Store connection endpoint: 192.168.0.106:1100\n"
     ]
    }
   ],
   "source": [
    "endpoint = HOST + \":\" + PORT\n",
    "print(\"Event Store connection endpoint:\", endpoint)\n",
    "ConfigurationReader.setConnectionEndpoints(endpoint)"
   ]
  },
  {
   "cell_type": "markdown",
   "metadata": {
    "deletable": true,
    "editable": true
   },
   "source": [
    "## Open the database\n",
    "\n",
    "The cells in this section are used to open the database and create a temporary view for the table that we created previously.   "
   ]
  },
  {
   "cell_type": "markdown",
   "metadata": {
    "deletable": true,
    "editable": true
   },
   "source": [
    "To run Spark SQL queries, you first have to set up a Db2 Event Store Spark session. The EventSession class extends the optimizer of the SparkSession class."
   ]
  },
  {
   "cell_type": "code",
   "execution_count": 5,
   "metadata": {
    "collapsed": true,
    "deletable": true,
    "editable": true
   },
   "outputs": [],
   "source": [
    "sparkSession = SparkSession.builder.appName(\"EventStore SQL in Python\").getOrCreate()\n",
    "eventSession = EventSession(sparkSession.sparkContext, DB_NAME)"
   ]
  },
  {
   "cell_type": "markdown",
   "metadata": {
    "deletable": true,
    "editable": true
   },
   "source": [
    "The next cell opens the database to allow operations against it to be executed."
   ]
  },
  {
   "cell_type": "code",
   "execution_count": 6,
   "metadata": {
    "collapsed": true,
    "deletable": true,
    "editable": true
   },
   "outputs": [],
   "source": [
    "eventSession.open_database()"
   ]
  },
  {
   "cell_type": "markdown",
   "metadata": {
    "deletable": true,
    "editable": true
   },
   "source": [
    "With the following cells, we can list all existing tables and then load the table we previously created into the tab DataFrame reference. Note that we are defining the `tab` DataFrame reference that will be used later on in this notebook to create a temporary view."
   ]
  },
  {
   "cell_type": "code",
   "execution_count": 7,
   "metadata": {
    "collapsed": false,
    "deletable": true,
    "editable": true
   },
   "outputs": [
    {
     "name": "stdout",
     "output_type": "stream",
     "text": [
      "Event context successfully retrieved.\n",
      "Table names:\n",
      "IOT_TEMPERATURE\n"
     ]
    }
   ],
   "source": [
    "with EventContext.get_event_context(DB_NAME) as ctx:\n",
    "   print(\"Event context successfully retrieved.\")\n",
    "\n",
    "print(\"Table names:\")\n",
    "table_names = ctx.get_names_of_tables()\n",
    "for name in table_names:\n",
    "   print(name)"
   ]
  },
  {
   "cell_type": "code",
   "execution_count": 8,
   "metadata": {
    "collapsed": false,
    "deletable": true,
    "editable": true
   },
   "outputs": [],
   "source": [
    "tab = eventSession.load_event_table(TABLE_NAME)"
   ]
  },
  {
   "cell_type": "markdown",
   "metadata": {
    "deletable": true,
    "editable": true
   },
   "source": [
    "Let's recall the table schema we previously created."
   ]
  },
  {
   "cell_type": "code",
   "execution_count": 9,
   "metadata": {
    "collapsed": false,
    "deletable": true,
    "editable": true,
    "scrolled": true
   },
   "outputs": [
    {
     "name": "stdout",
     "output_type": "stream",
     "text": [
      "ResolvedTableSchema(tableName=IOT_TEMPERATURE, schema=StructType(List(StructField(deviceID,IntegerType,false),StructField(sensorID,IntegerType,false),StructField(ts,LongType,false),StructField(ambient_temp,DoubleType,false),StructField(power,DoubleType,false),StructField(temperature,DoubleType,false))), sharding_columns=['deviceID', 'sensorID'], pk_columns=['deviceID', 'sensorID', 'ts'], partition_columns=None)\n"
     ]
    }
   ],
   "source": [
    "try:\n",
    "    resolved_table_schema = ctx.get_table(TABLE_NAME)\n",
    "    print(resolved_table_schema)\n",
    "except Exception as err:\n",
    "    print(\"Table not found\")"
   ]
  },
  {
   "cell_type": "markdown",
   "metadata": {
    "deletable": true,
    "editable": true
   },
   "source": [
    "## Best Practices for efficient queries"
   ]
  },
  {
   "cell_type": "markdown",
   "metadata": {
    "deletable": true,
    "editable": true
   },
   "source": [
    "In the next cell we create a lazily evaluated \"view\" that we can then use like a hive table in Spark SQL, but this is only evaluated when we actually run or cache query results. We are calling this view \"readings\" and that is how we will refer to it in the queries below:"
   ]
  },
  {
   "cell_type": "code",
   "execution_count": 10,
   "metadata": {
    "collapsed": false,
    "deletable": true,
    "editable": true
   },
   "outputs": [],
   "source": [
    "tab.createOrReplaceTempView(\"readings\")"
   ]
  },
  {
   "cell_type": "code",
   "execution_count": 11,
   "metadata": {
    "collapsed": false,
    "deletable": true,
    "editable": true,
    "scrolled": true
   },
   "outputs": [
    {
     "name": "stdout",
     "output_type": "stream",
     "text": [
      "SELECT count(*) FROM readings\n",
      "Running query in Event Store...\n"
     ]
    },
    {
     "data": {
      "text/html": [
       "<div>\n",
       "<table border=\"1\" class=\"dataframe\">\n",
       "  <thead>\n",
       "    <tr style=\"text-align: right;\">\n",
       "      <th></th>\n",
       "      <th>count(1)</th>\n",
       "    </tr>\n",
       "  </thead>\n",
       "  <tbody>\n",
       "    <tr>\n",
       "      <th>0</th>\n",
       "      <td>999999</td>\n",
       "    </tr>\n",
       "  </tbody>\n",
       "</table>\n",
       "</div>"
      ],
      "text/plain": [
       "   count(1)\n",
       "0    999999"
      ]
     },
     "execution_count": 11,
     "metadata": {},
     "output_type": "execute_result"
    }
   ],
   "source": [
    "query = \"SELECT count(*) FROM readings\"\n",
    "print(\"{}\\nRunning query in Event Store...\".format(query))\n",
    "df_data = eventSession.sql(query)\n",
    "df_data.toPandas()"
   ]
  },
  {
   "cell_type": "markdown",
   "metadata": {
    "deletable": true,
    "editable": true
   },
   "source": [
    "Let's have a look at the record structure "
   ]
  },
  {
   "cell_type": "code",
   "execution_count": 12,
   "metadata": {
    "collapsed": false,
    "deletable": true,
    "editable": true,
    "scrolled": false
   },
   "outputs": [
    {
     "name": "stdout",
     "output_type": "stream",
     "text": [
      "SELECT * FROM readings LIMIT 1\n",
      "Running query in Event Store...\n"
     ]
    },
    {
     "data": {
      "text/html": [
       "<div>\n",
       "<table border=\"1\" class=\"dataframe\">\n",
       "  <thead>\n",
       "    <tr style=\"text-align: right;\">\n",
       "      <th></th>\n",
       "      <th>deviceID</th>\n",
       "      <th>sensorID</th>\n",
       "      <th>ts</th>\n",
       "      <th>ambient_temp</th>\n",
       "      <th>power</th>\n",
       "      <th>temperature</th>\n",
       "    </tr>\n",
       "  </thead>\n",
       "  <tbody>\n",
       "    <tr>\n",
       "      <th>0</th>\n",
       "      <td>1</td>\n",
       "      <td>24</td>\n",
       "      <td>1541019343497</td>\n",
       "      <td>22.545444</td>\n",
       "      <td>9.834895</td>\n",
       "      <td>39.065559</td>\n",
       "    </tr>\n",
       "  </tbody>\n",
       "</table>\n",
       "</div>"
      ],
      "text/plain": [
       "   deviceID  sensorID             ts  ambient_temp     power  temperature\n",
       "0         1        24  1541019343497     22.545444  9.834895    39.065559"
      ]
     },
     "execution_count": 12,
     "metadata": {},
     "output_type": "execute_result"
    }
   ],
   "source": [
    "query = \"SELECT * FROM readings LIMIT 1\"\n",
    "print(\"{}\\nRunning query in Event Store...\".format(query))\n",
    "df_data = eventSession.sql(query)\n",
    "df_data.toPandas()"
   ]
  },
  {
   "cell_type": "code",
   "execution_count": 13,
   "metadata": {
    "collapsed": false,
    "deletable": true,
    "editable": true
   },
   "outputs": [
    {
     "name": "stdout",
     "output_type": "stream",
     "text": [
      "SELECT MIN(ts), MAX(ts) FROM readings\n",
      "Running query in Event Store...\n"
     ]
    },
    {
     "data": {
      "text/html": [
       "<div>\n",
       "<table border=\"1\" class=\"dataframe\">\n",
       "  <thead>\n",
       "    <tr style=\"text-align: right;\">\n",
       "      <th></th>\n",
       "      <th>min(ts)</th>\n",
       "      <th>max(ts)</th>\n",
       "    </tr>\n",
       "  </thead>\n",
       "  <tbody>\n",
       "    <tr>\n",
       "      <th>0</th>\n",
       "      <td>1541019343497</td>\n",
       "      <td>1541773999825</td>\n",
       "    </tr>\n",
       "  </tbody>\n",
       "</table>\n",
       "</div>"
      ],
      "text/plain": [
       "         min(ts)        max(ts)\n",
       "0  1541019343497  1541773999825"
      ]
     },
     "execution_count": 13,
     "metadata": {},
     "output_type": "execute_result"
    }
   ],
   "source": [
    "query = \"SELECT MIN(ts), MAX(ts) FROM readings\"\n",
    "print(\"{}\\nRunning query in Event Store...\".format(query))\n",
    "df_data = eventSession.sql(query)\n",
    "df_data.toPandas()\n"
   ]
  },
  {
   "cell_type": "markdown",
   "metadata": {
    "deletable": true,
    "editable": true
   },
   "source": [
    "## Optimal query through the index\n",
    "\n",
    "- Index queries will significantly reduce amount of data that needs to be scanned for results. \n",
    "    - Indexes in IBM Db2 Event Store are formed asynchronously to avoid insert latency. \n",
    "    - They are stored as a Log Structured Merge (LSM) Tree.\n",
    "    - The index is formed by \"runs\", which include sequences of sorted keys. These runs are written to disk during “Share” processing.\n",
    "    - These index runs are merged together over time to improve scan and I/O efficiency.\n",
    "\n",
    "- For an optimal query performance you must specify equality on all the equal_columns in the index and a range on the sort column in the index."
   ]
  },
  {
   "cell_type": "markdown",
   "metadata": {
    "deletable": true,
    "editable": true
   },
   "source": [
    "For example, in the following query we are retrieving all the values in the range of dates for a specific device and sensor, where both the `deviceID` and `sensorID` are in the equal_columns definition for the index schema and the `ts` column is the sort column for the index."
   ]
  },
  {
   "cell_type": "code",
   "execution_count": 14,
   "metadata": {
    "collapsed": false,
    "deletable": true,
    "editable": true
   },
   "outputs": [
    {
     "name": "stdout",
     "output_type": "stream",
     "text": [
      "SELECT ts, temperature  FROM readings where deviceID=1 and sensorID=12 and ts >1541021271619 and ts < 1541043671128 order by ts\n",
      "Creating a dataframe for the query ...\n"
     ]
    }
   ],
   "source": [
    "index_query = \"SELECT ts, temperature  FROM readings where deviceID=1 and sensorID=12 and ts >1541021271619 and ts < 1541043671128 order by ts\"\n",
    "print(\"{}\\nCreating a dataframe for the query ...\".format(index_query))\n",
    "df_index_query = eventSession.sql(index_query)"
   ]
  },
  {
   "cell_type": "markdown",
   "metadata": {
    "deletable": true,
    "editable": true
   },
   "source": [
    "Then the following cell runs the query and caches the results. Note that this caching is for demostration purposes, to show the time it takes to run the query and cache the results in memory within Spark. This caching is recommended when you are going to do additional processing on this cached data, as the query against IBM Db2 Event Store is only run once. "
   ]
  },
  {
   "cell_type": "code",
   "execution_count": 15,
   "metadata": {
    "collapsed": false,
    "deletable": true,
    "editable": true
   },
   "outputs": [
    {
     "name": "stdout",
     "output_type": "stream",
     "text": [
      "CPU times: user 0 ns, sys: 0 ns, total: 0 ns\n",
      "Wall time: 634 ms\n"
     ]
    },
    {
     "data": {
      "text/plain": [
       "DataFrame[ts: bigint, temperature: double]"
      ]
     },
     "execution_count": 15,
     "metadata": {},
     "output_type": "execute_result"
    }
   ],
   "source": [
    "%%time\n",
    "df_index_query.cache()"
   ]
  },
  {
   "cell_type": "markdown",
   "metadata": {
    "deletable": true,
    "editable": true
   },
   "source": [
    "Finally the results from the cached data can be visualized:"
   ]
  },
  {
   "cell_type": "code",
   "execution_count": 16,
   "metadata": {
    "collapsed": false,
    "deletable": true,
    "editable": true
   },
   "outputs": [
    {
     "data": {
      "text/html": [
       "<div>\n",
       "<table border=\"1\" class=\"dataframe\">\n",
       "  <thead>\n",
       "    <tr style=\"text-align: right;\">\n",
       "      <th></th>\n",
       "      <th>ts</th>\n",
       "      <th>temperature</th>\n",
       "    </tr>\n",
       "  </thead>\n",
       "  <tbody>\n",
       "    <tr>\n",
       "      <th>0</th>\n",
       "      <td>1541021321393</td>\n",
       "      <td>40.204513</td>\n",
       "    </tr>\n",
       "    <tr>\n",
       "      <th>1</th>\n",
       "      <td>1541021364651</td>\n",
       "      <td>44.899199</td>\n",
       "    </tr>\n",
       "    <tr>\n",
       "      <th>2</th>\n",
       "      <td>1541021373123</td>\n",
       "      <td>38.694953</td>\n",
       "    </tr>\n",
       "    <tr>\n",
       "      <th>3</th>\n",
       "      <td>1541021399823</td>\n",
       "      <td>41.095604</td>\n",
       "    </tr>\n",
       "    <tr>\n",
       "      <th>4</th>\n",
       "      <td>1541021508549</td>\n",
       "      <td>43.350289</td>\n",
       "    </tr>\n",
       "    <tr>\n",
       "      <th>5</th>\n",
       "      <td>1541021523675</td>\n",
       "      <td>33.144291</td>\n",
       "    </tr>\n",
       "    <tr>\n",
       "      <th>6</th>\n",
       "      <td>1541021584929</td>\n",
       "      <td>40.710335</td>\n",
       "    </tr>\n",
       "    <tr>\n",
       "      <th>7</th>\n",
       "      <td>1541021751002</td>\n",
       "      <td>42.303187</td>\n",
       "    </tr>\n",
       "    <tr>\n",
       "      <th>8</th>\n",
       "      <td>1541021814624</td>\n",
       "      <td>43.006241</td>\n",
       "    </tr>\n",
       "    <tr>\n",
       "      <th>9</th>\n",
       "      <td>1541021838730</td>\n",
       "      <td>36.723280</td>\n",
       "    </tr>\n",
       "    <tr>\n",
       "      <th>10</th>\n",
       "      <td>1541021877637</td>\n",
       "      <td>45.986306</td>\n",
       "    </tr>\n",
       "    <tr>\n",
       "      <th>11</th>\n",
       "      <td>1541021959804</td>\n",
       "      <td>42.959368</td>\n",
       "    </tr>\n",
       "    <tr>\n",
       "      <th>12</th>\n",
       "      <td>1541022032291</td>\n",
       "      <td>40.636561</td>\n",
       "    </tr>\n",
       "    <tr>\n",
       "      <th>13</th>\n",
       "      <td>1541022068919</td>\n",
       "      <td>41.378277</td>\n",
       "    </tr>\n",
       "    <tr>\n",
       "      <th>14</th>\n",
       "      <td>1541022101703</td>\n",
       "      <td>42.235179</td>\n",
       "    </tr>\n",
       "    <tr>\n",
       "      <th>15</th>\n",
       "      <td>1541022156389</td>\n",
       "      <td>39.614191</td>\n",
       "    </tr>\n",
       "    <tr>\n",
       "      <th>16</th>\n",
       "      <td>1541022158167</td>\n",
       "      <td>38.137318</td>\n",
       "    </tr>\n",
       "    <tr>\n",
       "      <th>17</th>\n",
       "      <td>1541022200720</td>\n",
       "      <td>39.821523</td>\n",
       "    </tr>\n",
       "    <tr>\n",
       "      <th>18</th>\n",
       "      <td>1541022251871</td>\n",
       "      <td>41.431687</td>\n",
       "    </tr>\n",
       "    <tr>\n",
       "      <th>19</th>\n",
       "      <td>1541022264579</td>\n",
       "      <td>38.704199</td>\n",
       "    </tr>\n",
       "    <tr>\n",
       "      <th>20</th>\n",
       "      <td>1541022299365</td>\n",
       "      <td>38.639203</td>\n",
       "    </tr>\n",
       "    <tr>\n",
       "      <th>21</th>\n",
       "      <td>1541022338928</td>\n",
       "      <td>40.631617</td>\n",
       "    </tr>\n",
       "    <tr>\n",
       "      <th>22</th>\n",
       "      <td>1541022517650</td>\n",
       "      <td>45.223687</td>\n",
       "    </tr>\n",
       "    <tr>\n",
       "      <th>23</th>\n",
       "      <td>1541022547533</td>\n",
       "      <td>47.178188</td>\n",
       "    </tr>\n",
       "    <tr>\n",
       "      <th>24</th>\n",
       "      <td>1541022581236</td>\n",
       "      <td>41.993974</td>\n",
       "    </tr>\n",
       "    <tr>\n",
       "      <th>25</th>\n",
       "      <td>1541022815229</td>\n",
       "      <td>39.143291</td>\n",
       "    </tr>\n",
       "    <tr>\n",
       "      <th>26</th>\n",
       "      <td>1541023054996</td>\n",
       "      <td>47.328173</td>\n",
       "    </tr>\n",
       "    <tr>\n",
       "      <th>27</th>\n",
       "      <td>1541023104573</td>\n",
       "      <td>44.980321</td>\n",
       "    </tr>\n",
       "    <tr>\n",
       "      <th>28</th>\n",
       "      <td>1541023118533</td>\n",
       "      <td>43.810708</td>\n",
       "    </tr>\n",
       "    <tr>\n",
       "      <th>29</th>\n",
       "      <td>1541023142959</td>\n",
       "      <td>42.004023</td>\n",
       "    </tr>\n",
       "    <tr>\n",
       "      <th>...</th>\n",
       "      <td>...</td>\n",
       "      <td>...</td>\n",
       "    </tr>\n",
       "    <tr>\n",
       "      <th>280</th>\n",
       "      <td>1541042003739</td>\n",
       "      <td>36.321170</td>\n",
       "    </tr>\n",
       "    <tr>\n",
       "      <th>281</th>\n",
       "      <td>1541042012945</td>\n",
       "      <td>44.719616</td>\n",
       "    </tr>\n",
       "    <tr>\n",
       "      <th>282</th>\n",
       "      <td>1541042014543</td>\n",
       "      <td>43.523972</td>\n",
       "    </tr>\n",
       "    <tr>\n",
       "      <th>283</th>\n",
       "      <td>1541042064371</td>\n",
       "      <td>45.804933</td>\n",
       "    </tr>\n",
       "    <tr>\n",
       "      <th>284</th>\n",
       "      <td>1541042101878</td>\n",
       "      <td>37.435386</td>\n",
       "    </tr>\n",
       "    <tr>\n",
       "      <th>285</th>\n",
       "      <td>1541042232294</td>\n",
       "      <td>43.965728</td>\n",
       "    </tr>\n",
       "    <tr>\n",
       "      <th>286</th>\n",
       "      <td>1541042265479</td>\n",
       "      <td>38.468307</td>\n",
       "    </tr>\n",
       "    <tr>\n",
       "      <th>287</th>\n",
       "      <td>1541042286571</td>\n",
       "      <td>44.664419</td>\n",
       "    </tr>\n",
       "    <tr>\n",
       "      <th>288</th>\n",
       "      <td>1541042289928</td>\n",
       "      <td>46.837588</td>\n",
       "    </tr>\n",
       "    <tr>\n",
       "      <th>289</th>\n",
       "      <td>1541042345881</td>\n",
       "      <td>36.449653</td>\n",
       "    </tr>\n",
       "    <tr>\n",
       "      <th>290</th>\n",
       "      <td>1541042399916</td>\n",
       "      <td>44.048184</td>\n",
       "    </tr>\n",
       "    <tr>\n",
       "      <th>291</th>\n",
       "      <td>1541042429446</td>\n",
       "      <td>37.202616</td>\n",
       "    </tr>\n",
       "    <tr>\n",
       "      <th>292</th>\n",
       "      <td>1541042472839</td>\n",
       "      <td>33.879343</td>\n",
       "    </tr>\n",
       "    <tr>\n",
       "      <th>293</th>\n",
       "      <td>1541042507998</td>\n",
       "      <td>41.676726</td>\n",
       "    </tr>\n",
       "    <tr>\n",
       "      <th>294</th>\n",
       "      <td>1541042511035</td>\n",
       "      <td>36.490457</td>\n",
       "    </tr>\n",
       "    <tr>\n",
       "      <th>295</th>\n",
       "      <td>1541042533892</td>\n",
       "      <td>36.755233</td>\n",
       "    </tr>\n",
       "    <tr>\n",
       "      <th>296</th>\n",
       "      <td>1541042557387</td>\n",
       "      <td>37.285834</td>\n",
       "    </tr>\n",
       "    <tr>\n",
       "      <th>297</th>\n",
       "      <td>1541042650540</td>\n",
       "      <td>42.803549</td>\n",
       "    </tr>\n",
       "    <tr>\n",
       "      <th>298</th>\n",
       "      <td>1541042786046</td>\n",
       "      <td>39.570971</td>\n",
       "    </tr>\n",
       "    <tr>\n",
       "      <th>299</th>\n",
       "      <td>1541042802832</td>\n",
       "      <td>41.105282</td>\n",
       "    </tr>\n",
       "    <tr>\n",
       "      <th>300</th>\n",
       "      <td>1541042990876</td>\n",
       "      <td>40.194371</td>\n",
       "    </tr>\n",
       "    <tr>\n",
       "      <th>301</th>\n",
       "      <td>1541043103983</td>\n",
       "      <td>39.681841</td>\n",
       "    </tr>\n",
       "    <tr>\n",
       "      <th>302</th>\n",
       "      <td>1541043211589</td>\n",
       "      <td>35.139073</td>\n",
       "    </tr>\n",
       "    <tr>\n",
       "      <th>303</th>\n",
       "      <td>1541043319775</td>\n",
       "      <td>40.554233</td>\n",
       "    </tr>\n",
       "    <tr>\n",
       "      <th>304</th>\n",
       "      <td>1541043324842</td>\n",
       "      <td>41.221549</td>\n",
       "    </tr>\n",
       "    <tr>\n",
       "      <th>305</th>\n",
       "      <td>1541043359510</td>\n",
       "      <td>46.030891</td>\n",
       "    </tr>\n",
       "    <tr>\n",
       "      <th>306</th>\n",
       "      <td>1541043509740</td>\n",
       "      <td>39.898476</td>\n",
       "    </tr>\n",
       "    <tr>\n",
       "      <th>307</th>\n",
       "      <td>1541043556843</td>\n",
       "      <td>38.970563</td>\n",
       "    </tr>\n",
       "    <tr>\n",
       "      <th>308</th>\n",
       "      <td>1541043630200</td>\n",
       "      <td>36.667229</td>\n",
       "    </tr>\n",
       "    <tr>\n",
       "      <th>309</th>\n",
       "      <td>1541043634251</td>\n",
       "      <td>39.075059</td>\n",
       "    </tr>\n",
       "  </tbody>\n",
       "</table>\n",
       "<p>310 rows × 2 columns</p>\n",
       "</div>"
      ],
      "text/plain": [
       "                ts  temperature\n",
       "0    1541021321393    40.204513\n",
       "1    1541021364651    44.899199\n",
       "2    1541021373123    38.694953\n",
       "3    1541021399823    41.095604\n",
       "4    1541021508549    43.350289\n",
       "5    1541021523675    33.144291\n",
       "6    1541021584929    40.710335\n",
       "7    1541021751002    42.303187\n",
       "8    1541021814624    43.006241\n",
       "9    1541021838730    36.723280\n",
       "10   1541021877637    45.986306\n",
       "11   1541021959804    42.959368\n",
       "12   1541022032291    40.636561\n",
       "13   1541022068919    41.378277\n",
       "14   1541022101703    42.235179\n",
       "15   1541022156389    39.614191\n",
       "16   1541022158167    38.137318\n",
       "17   1541022200720    39.821523\n",
       "18   1541022251871    41.431687\n",
       "19   1541022264579    38.704199\n",
       "20   1541022299365    38.639203\n",
       "21   1541022338928    40.631617\n",
       "22   1541022517650    45.223687\n",
       "23   1541022547533    47.178188\n",
       "24   1541022581236    41.993974\n",
       "25   1541022815229    39.143291\n",
       "26   1541023054996    47.328173\n",
       "27   1541023104573    44.980321\n",
       "28   1541023118533    43.810708\n",
       "29   1541023142959    42.004023\n",
       "..             ...          ...\n",
       "280  1541042003739    36.321170\n",
       "281  1541042012945    44.719616\n",
       "282  1541042014543    43.523972\n",
       "283  1541042064371    45.804933\n",
       "284  1541042101878    37.435386\n",
       "285  1541042232294    43.965728\n",
       "286  1541042265479    38.468307\n",
       "287  1541042286571    44.664419\n",
       "288  1541042289928    46.837588\n",
       "289  1541042345881    36.449653\n",
       "290  1541042399916    44.048184\n",
       "291  1541042429446    37.202616\n",
       "292  1541042472839    33.879343\n",
       "293  1541042507998    41.676726\n",
       "294  1541042511035    36.490457\n",
       "295  1541042533892    36.755233\n",
       "296  1541042557387    37.285834\n",
       "297  1541042650540    42.803549\n",
       "298  1541042786046    39.570971\n",
       "299  1541042802832    41.105282\n",
       "300  1541042990876    40.194371\n",
       "301  1541043103983    39.681841\n",
       "302  1541043211589    35.139073\n",
       "303  1541043319775    40.554233\n",
       "304  1541043324842    41.221549\n",
       "305  1541043359510    46.030891\n",
       "306  1541043509740    39.898476\n",
       "307  1541043556843    38.970563\n",
       "308  1541043630200    36.667229\n",
       "309  1541043634251    39.075059\n",
       "\n",
       "[310 rows x 2 columns]"
      ]
     },
     "execution_count": 16,
     "metadata": {},
     "output_type": "execute_result"
    }
   ],
   "source": [
    "df_index_query.toPandas()"
   ]
  },
  {
   "cell_type": "markdown",
   "metadata": {
    "deletable": true,
    "editable": true
   },
   "source": [
    "## Sub-optimal query\n",
    "\n",
    "This next query shows a sub-optimal query that only specifies equality in one of the equal_columns in the index schema, and for this reason ends up doing a full scan of the table."
   ]
  },
  {
   "cell_type": "code",
   "execution_count": 17,
   "metadata": {
    "collapsed": false,
    "deletable": true,
    "editable": true
   },
   "outputs": [
    {
     "name": "stdout",
     "output_type": "stream",
     "text": [
      "SELECT count(*)  FROM readings where sensorID = 7\n",
      "Creating a dataframe for the query...\n"
     ]
    }
   ],
   "source": [
    "fullscan_query = \"SELECT count(*) FROM readings where sensorID = 7\"\n",
    "print(\"{}\\nCreating a dataframe for the query...\".format(fullscan_query))\n",
    "df_fullscan_query = eventSession.sql(fullscan_query)"
   ]
  },
  {
   "cell_type": "code",
   "execution_count": 18,
   "metadata": {
    "collapsed": false,
    "deletable": true,
    "editable": true
   },
   "outputs": [
    {
     "name": "stdout",
     "output_type": "stream",
     "text": [
      "CPU times: user 10 ms, sys: 0 ns, total: 10 ms\n",
      "Wall time: 371 ms\n"
     ]
    },
    {
     "data": {
      "text/plain": [
       "DataFrame[count(1): bigint]"
      ]
     },
     "execution_count": 18,
     "metadata": {},
     "output_type": "execute_result"
    }
   ],
   "source": [
    "%%time\n",
    "df_fullscan_query.cache()"
   ]
  },
  {
   "cell_type": "code",
   "execution_count": 19,
   "metadata": {
    "collapsed": false,
    "deletable": true,
    "editable": true
   },
   "outputs": [
    {
     "data": {
      "text/html": [
       "<div>\n",
       "<table border=\"1\" class=\"dataframe\">\n",
       "  <thead>\n",
       "    <tr style=\"text-align: right;\">\n",
       "      <th></th>\n",
       "      <th>count(1)</th>\n",
       "    </tr>\n",
       "  </thead>\n",
       "  <tbody>\n",
       "    <tr>\n",
       "      <th>0</th>\n",
       "      <td>20396</td>\n",
       "    </tr>\n",
       "  </tbody>\n",
       "</table>\n",
       "</div>"
      ],
      "text/plain": [
       "   count(1)\n",
       "0     20396"
      ]
     },
     "execution_count": 19,
     "metadata": {},
     "output_type": "execute_result"
    }
   ],
   "source": [
    "df_fullscan_query.toPandas()"
   ]
  },
  {
   "cell_type": "markdown",
   "metadata": {
    "deletable": true,
    "editable": true
   },
   "source": [
    "## Accessing multiple sensorIDs optimally\n",
    "\n",
    "The easiest way to write a query that needs to retrieve multiple values in the equal_columns in the index schema is by using an *In-List*. With this, you can get optimal index access across multiple sensorID's. \n",
    "\n",
    "In this example we specify equality for a specific deviceID, and an In-List for the four sensors we are trying to retrieve. To limit the number of records we are returning we also include a range of timestamps."
   ]
  },
  {
   "cell_type": "code",
   "execution_count": 20,
   "metadata": {
    "collapsed": false,
    "deletable": true,
    "editable": true
   },
   "outputs": [
    {
     "name": "stdout",
     "output_type": "stream",
     "text": [
      "SELECT deviceID, sensorID, ts  FROM readings where deviceID=1 and sensorID in (1, 5, 7, 12) and ts >1541021271619 and ts < 1541043671128 order by ts\n",
      "Creating a dataframe for the query...\n"
     ]
    }
   ],
   "source": [
    "inlist_query = \"SELECT deviceID, sensorID, ts FROM readings where deviceID=1 and sensorID in (1, 5, 7, 12) and ts >1541021271619 and ts < 1541043671128 order by ts\"\n",
    "print(\"{}\\nCreating a dataframe for the query...\".format(inlist_query))\n",
    "df_inlist_query = eventSession.sql(inlist_query)"
   ]
  },
  {
   "cell_type": "code",
   "execution_count": 21,
   "metadata": {
    "collapsed": false,
    "deletable": true,
    "editable": true
   },
   "outputs": [
    {
     "name": "stdout",
     "output_type": "stream",
     "text": [
      "CPU times: user 0 ns, sys: 0 ns, total: 0 ns\n",
      "Wall time: 226 ms\n"
     ]
    },
    {
     "data": {
      "text/plain": [
       "DataFrame[deviceID: int, sensorID: int, ts: bigint]"
      ]
     },
     "execution_count": 21,
     "metadata": {},
     "output_type": "execute_result"
    }
   ],
   "source": [
    "%%time\n",
    "df_inlist_query.cache()"
   ]
  },
  {
   "cell_type": "code",
   "execution_count": 22,
   "metadata": {
    "collapsed": false,
    "deletable": true,
    "editable": true
   },
   "outputs": [
    {
     "data": {
      "text/html": [
       "<div>\n",
       "<table border=\"1\" class=\"dataframe\">\n",
       "  <thead>\n",
       "    <tr style=\"text-align: right;\">\n",
       "      <th></th>\n",
       "      <th>deviceID</th>\n",
       "      <th>sensorID</th>\n",
       "      <th>ts</th>\n",
       "    </tr>\n",
       "  </thead>\n",
       "  <tbody>\n",
       "    <tr>\n",
       "      <th>0</th>\n",
       "      <td>1</td>\n",
       "      <td>12</td>\n",
       "      <td>1541021321393</td>\n",
       "    </tr>\n",
       "    <tr>\n",
       "      <th>1</th>\n",
       "      <td>1</td>\n",
       "      <td>5</td>\n",
       "      <td>1541021350290</td>\n",
       "    </tr>\n",
       "    <tr>\n",
       "      <th>2</th>\n",
       "      <td>1</td>\n",
       "      <td>7</td>\n",
       "      <td>1541021353694</td>\n",
       "    </tr>\n",
       "    <tr>\n",
       "      <th>3</th>\n",
       "      <td>1</td>\n",
       "      <td>12</td>\n",
       "      <td>1541021364651</td>\n",
       "    </tr>\n",
       "    <tr>\n",
       "      <th>4</th>\n",
       "      <td>1</td>\n",
       "      <td>7</td>\n",
       "      <td>1541021365768</td>\n",
       "    </tr>\n",
       "    <tr>\n",
       "      <th>5</th>\n",
       "      <td>1</td>\n",
       "      <td>12</td>\n",
       "      <td>1541021373123</td>\n",
       "    </tr>\n",
       "    <tr>\n",
       "      <th>6</th>\n",
       "      <td>1</td>\n",
       "      <td>12</td>\n",
       "      <td>1541021399823</td>\n",
       "    </tr>\n",
       "    <tr>\n",
       "      <th>7</th>\n",
       "      <td>1</td>\n",
       "      <td>1</td>\n",
       "      <td>1541021441838</td>\n",
       "    </tr>\n",
       "    <tr>\n",
       "      <th>8</th>\n",
       "      <td>1</td>\n",
       "      <td>1</td>\n",
       "      <td>1541021447795</td>\n",
       "    </tr>\n",
       "    <tr>\n",
       "      <th>9</th>\n",
       "      <td>1</td>\n",
       "      <td>5</td>\n",
       "      <td>1541021451651</td>\n",
       "    </tr>\n",
       "    <tr>\n",
       "      <th>10</th>\n",
       "      <td>1</td>\n",
       "      <td>5</td>\n",
       "      <td>1541021457617</td>\n",
       "    </tr>\n",
       "    <tr>\n",
       "      <th>11</th>\n",
       "      <td>1</td>\n",
       "      <td>1</td>\n",
       "      <td>1541021459237</td>\n",
       "    </tr>\n",
       "    <tr>\n",
       "      <th>12</th>\n",
       "      <td>1</td>\n",
       "      <td>5</td>\n",
       "      <td>1541021466059</td>\n",
       "    </tr>\n",
       "    <tr>\n",
       "      <th>13</th>\n",
       "      <td>1</td>\n",
       "      <td>1</td>\n",
       "      <td>1541021489618</td>\n",
       "    </tr>\n",
       "    <tr>\n",
       "      <th>14</th>\n",
       "      <td>1</td>\n",
       "      <td>12</td>\n",
       "      <td>1541021508549</td>\n",
       "    </tr>\n",
       "    <tr>\n",
       "      <th>15</th>\n",
       "      <td>1</td>\n",
       "      <td>5</td>\n",
       "      <td>1541021513013</td>\n",
       "    </tr>\n",
       "    <tr>\n",
       "      <th>16</th>\n",
       "      <td>1</td>\n",
       "      <td>12</td>\n",
       "      <td>1541021523675</td>\n",
       "    </tr>\n",
       "    <tr>\n",
       "      <th>17</th>\n",
       "      <td>1</td>\n",
       "      <td>1</td>\n",
       "      <td>1541021569337</td>\n",
       "    </tr>\n",
       "    <tr>\n",
       "      <th>18</th>\n",
       "      <td>1</td>\n",
       "      <td>1</td>\n",
       "      <td>1541021571435</td>\n",
       "    </tr>\n",
       "    <tr>\n",
       "      <th>19</th>\n",
       "      <td>1</td>\n",
       "      <td>12</td>\n",
       "      <td>1541021584929</td>\n",
       "    </tr>\n",
       "    <tr>\n",
       "      <th>20</th>\n",
       "      <td>1</td>\n",
       "      <td>5</td>\n",
       "      <td>1541021612790</td>\n",
       "    </tr>\n",
       "    <tr>\n",
       "      <th>21</th>\n",
       "      <td>1</td>\n",
       "      <td>5</td>\n",
       "      <td>1541021620227</td>\n",
       "    </tr>\n",
       "    <tr>\n",
       "      <th>22</th>\n",
       "      <td>1</td>\n",
       "      <td>1</td>\n",
       "      <td>1541021620940</td>\n",
       "    </tr>\n",
       "    <tr>\n",
       "      <th>23</th>\n",
       "      <td>1</td>\n",
       "      <td>1</td>\n",
       "      <td>1541021629517</td>\n",
       "    </tr>\n",
       "    <tr>\n",
       "      <th>24</th>\n",
       "      <td>1</td>\n",
       "      <td>7</td>\n",
       "      <td>1541021646276</td>\n",
       "    </tr>\n",
       "    <tr>\n",
       "      <th>25</th>\n",
       "      <td>1</td>\n",
       "      <td>1</td>\n",
       "      <td>1541021648162</td>\n",
       "    </tr>\n",
       "    <tr>\n",
       "      <th>26</th>\n",
       "      <td>1</td>\n",
       "      <td>1</td>\n",
       "      <td>1541021672413</td>\n",
       "    </tr>\n",
       "    <tr>\n",
       "      <th>27</th>\n",
       "      <td>1</td>\n",
       "      <td>1</td>\n",
       "      <td>1541021712981</td>\n",
       "    </tr>\n",
       "    <tr>\n",
       "      <th>28</th>\n",
       "      <td>1</td>\n",
       "      <td>12</td>\n",
       "      <td>1541021751002</td>\n",
       "    </tr>\n",
       "    <tr>\n",
       "      <th>29</th>\n",
       "      <td>1</td>\n",
       "      <td>1</td>\n",
       "      <td>1541021751514</td>\n",
       "    </tr>\n",
       "    <tr>\n",
       "      <th>...</th>\n",
       "      <td>...</td>\n",
       "      <td>...</td>\n",
       "      <td>...</td>\n",
       "    </tr>\n",
       "    <tr>\n",
       "      <th>1202</th>\n",
       "      <td>1</td>\n",
       "      <td>1</td>\n",
       "      <td>1541043151104</td>\n",
       "    </tr>\n",
       "    <tr>\n",
       "      <th>1203</th>\n",
       "      <td>1</td>\n",
       "      <td>1</td>\n",
       "      <td>1541043171672</td>\n",
       "    </tr>\n",
       "    <tr>\n",
       "      <th>1204</th>\n",
       "      <td>1</td>\n",
       "      <td>5</td>\n",
       "      <td>1541043174675</td>\n",
       "    </tr>\n",
       "    <tr>\n",
       "      <th>1205</th>\n",
       "      <td>1</td>\n",
       "      <td>5</td>\n",
       "      <td>1541043192738</td>\n",
       "    </tr>\n",
       "    <tr>\n",
       "      <th>1206</th>\n",
       "      <td>1</td>\n",
       "      <td>7</td>\n",
       "      <td>1541043202910</td>\n",
       "    </tr>\n",
       "    <tr>\n",
       "      <th>1207</th>\n",
       "      <td>1</td>\n",
       "      <td>12</td>\n",
       "      <td>1541043211589</td>\n",
       "    </tr>\n",
       "    <tr>\n",
       "      <th>1208</th>\n",
       "      <td>1</td>\n",
       "      <td>7</td>\n",
       "      <td>1541043255500</td>\n",
       "    </tr>\n",
       "    <tr>\n",
       "      <th>1209</th>\n",
       "      <td>1</td>\n",
       "      <td>7</td>\n",
       "      <td>1541043262704</td>\n",
       "    </tr>\n",
       "    <tr>\n",
       "      <th>1210</th>\n",
       "      <td>1</td>\n",
       "      <td>7</td>\n",
       "      <td>1541043278851</td>\n",
       "    </tr>\n",
       "    <tr>\n",
       "      <th>1211</th>\n",
       "      <td>1</td>\n",
       "      <td>5</td>\n",
       "      <td>1541043285417</td>\n",
       "    </tr>\n",
       "    <tr>\n",
       "      <th>1212</th>\n",
       "      <td>1</td>\n",
       "      <td>5</td>\n",
       "      <td>1541043298038</td>\n",
       "    </tr>\n",
       "    <tr>\n",
       "      <th>1213</th>\n",
       "      <td>1</td>\n",
       "      <td>12</td>\n",
       "      <td>1541043319775</td>\n",
       "    </tr>\n",
       "    <tr>\n",
       "      <th>1214</th>\n",
       "      <td>1</td>\n",
       "      <td>5</td>\n",
       "      <td>1541043324029</td>\n",
       "    </tr>\n",
       "    <tr>\n",
       "      <th>1215</th>\n",
       "      <td>1</td>\n",
       "      <td>12</td>\n",
       "      <td>1541043324842</td>\n",
       "    </tr>\n",
       "    <tr>\n",
       "      <th>1216</th>\n",
       "      <td>1</td>\n",
       "      <td>7</td>\n",
       "      <td>1541043331625</td>\n",
       "    </tr>\n",
       "    <tr>\n",
       "      <th>1217</th>\n",
       "      <td>1</td>\n",
       "      <td>1</td>\n",
       "      <td>1541043340096</td>\n",
       "    </tr>\n",
       "    <tr>\n",
       "      <th>1218</th>\n",
       "      <td>1</td>\n",
       "      <td>12</td>\n",
       "      <td>1541043359510</td>\n",
       "    </tr>\n",
       "    <tr>\n",
       "      <th>1219</th>\n",
       "      <td>1</td>\n",
       "      <td>1</td>\n",
       "      <td>1541043361257</td>\n",
       "    </tr>\n",
       "    <tr>\n",
       "      <th>1220</th>\n",
       "      <td>1</td>\n",
       "      <td>1</td>\n",
       "      <td>1541043370547</td>\n",
       "    </tr>\n",
       "    <tr>\n",
       "      <th>1221</th>\n",
       "      <td>1</td>\n",
       "      <td>5</td>\n",
       "      <td>1541043443082</td>\n",
       "    </tr>\n",
       "    <tr>\n",
       "      <th>1222</th>\n",
       "      <td>1</td>\n",
       "      <td>1</td>\n",
       "      <td>1541043445445</td>\n",
       "    </tr>\n",
       "    <tr>\n",
       "      <th>1223</th>\n",
       "      <td>1</td>\n",
       "      <td>5</td>\n",
       "      <td>1541043451523</td>\n",
       "    </tr>\n",
       "    <tr>\n",
       "      <th>1224</th>\n",
       "      <td>1</td>\n",
       "      <td>7</td>\n",
       "      <td>1541043477461</td>\n",
       "    </tr>\n",
       "    <tr>\n",
       "      <th>1225</th>\n",
       "      <td>1</td>\n",
       "      <td>1</td>\n",
       "      <td>1541043506088</td>\n",
       "    </tr>\n",
       "    <tr>\n",
       "      <th>1226</th>\n",
       "      <td>1</td>\n",
       "      <td>12</td>\n",
       "      <td>1541043509740</td>\n",
       "    </tr>\n",
       "    <tr>\n",
       "      <th>1227</th>\n",
       "      <td>1</td>\n",
       "      <td>12</td>\n",
       "      <td>1541043556843</td>\n",
       "    </tr>\n",
       "    <tr>\n",
       "      <th>1228</th>\n",
       "      <td>1</td>\n",
       "      <td>1</td>\n",
       "      <td>1541043591795</td>\n",
       "    </tr>\n",
       "    <tr>\n",
       "      <th>1229</th>\n",
       "      <td>1</td>\n",
       "      <td>12</td>\n",
       "      <td>1541043630200</td>\n",
       "    </tr>\n",
       "    <tr>\n",
       "      <th>1230</th>\n",
       "      <td>1</td>\n",
       "      <td>12</td>\n",
       "      <td>1541043634251</td>\n",
       "    </tr>\n",
       "    <tr>\n",
       "      <th>1231</th>\n",
       "      <td>1</td>\n",
       "      <td>7</td>\n",
       "      <td>1541043662114</td>\n",
       "    </tr>\n",
       "  </tbody>\n",
       "</table>\n",
       "<p>1232 rows × 3 columns</p>\n",
       "</div>"
      ],
      "text/plain": [
       "      deviceID  sensorID             ts\n",
       "0            1        12  1541021321393\n",
       "1            1         5  1541021350290\n",
       "2            1         7  1541021353694\n",
       "3            1        12  1541021364651\n",
       "4            1         7  1541021365768\n",
       "5            1        12  1541021373123\n",
       "6            1        12  1541021399823\n",
       "7            1         1  1541021441838\n",
       "8            1         1  1541021447795\n",
       "9            1         5  1541021451651\n",
       "10           1         5  1541021457617\n",
       "11           1         1  1541021459237\n",
       "12           1         5  1541021466059\n",
       "13           1         1  1541021489618\n",
       "14           1        12  1541021508549\n",
       "15           1         5  1541021513013\n",
       "16           1        12  1541021523675\n",
       "17           1         1  1541021569337\n",
       "18           1         1  1541021571435\n",
       "19           1        12  1541021584929\n",
       "20           1         5  1541021612790\n",
       "21           1         5  1541021620227\n",
       "22           1         1  1541021620940\n",
       "23           1         1  1541021629517\n",
       "24           1         7  1541021646276\n",
       "25           1         1  1541021648162\n",
       "26           1         1  1541021672413\n",
       "27           1         1  1541021712981\n",
       "28           1        12  1541021751002\n",
       "29           1         1  1541021751514\n",
       "...        ...       ...            ...\n",
       "1202         1         1  1541043151104\n",
       "1203         1         1  1541043171672\n",
       "1204         1         5  1541043174675\n",
       "1205         1         5  1541043192738\n",
       "1206         1         7  1541043202910\n",
       "1207         1        12  1541043211589\n",
       "1208         1         7  1541043255500\n",
       "1209         1         7  1541043262704\n",
       "1210         1         7  1541043278851\n",
       "1211         1         5  1541043285417\n",
       "1212         1         5  1541043298038\n",
       "1213         1        12  1541043319775\n",
       "1214         1         5  1541043324029\n",
       "1215         1        12  1541043324842\n",
       "1216         1         7  1541043331625\n",
       "1217         1         1  1541043340096\n",
       "1218         1        12  1541043359510\n",
       "1219         1         1  1541043361257\n",
       "1220         1         1  1541043370547\n",
       "1221         1         5  1541043443082\n",
       "1222         1         1  1541043445445\n",
       "1223         1         5  1541043451523\n",
       "1224         1         7  1541043477461\n",
       "1225         1         1  1541043506088\n",
       "1226         1        12  1541043509740\n",
       "1227         1        12  1541043556843\n",
       "1228         1         1  1541043591795\n",
       "1229         1        12  1541043630200\n",
       "1230         1        12  1541043634251\n",
       "1231         1         7  1541043662114\n",
       "\n",
       "[1232 rows x 3 columns]"
      ]
     },
     "execution_count": 22,
     "metadata": {},
     "output_type": "execute_result"
    }
   ],
   "source": [
    "df_inlist_query.toPandas()"
   ]
  },
  {
   "cell_type": "markdown",
   "metadata": {
    "deletable": true,
    "editable": true
   },
   "source": [
    "## Exploiting the synopsis table:  Advanced medium weight queries\n",
    "\n",
    "- Event Store tables include a synopsis table which summarizes the minimum/maximum values of the data for each range of rows in the synopsis table. \n",
    "\n",
    "     - It contains one range for every 1000 rows.\n",
    "     - It is stored in a separate internal table in the shared storage layer.\n",
    "     - It is parquet compressed to minimize footprint.\n",
    "     - For highly selective queries, it can improve performance by up to 1000x.\n",
    "\n",
    "- Using an equality or a range predicate on a clustered field (e.g. the 'ts' column in our case because the data is inserted into the table in order) is faster than doing a full scan as it should be able to exploit the synopsis table, but this will be slower than an optimal index scan."
   ]
  },
  {
   "cell_type": "code",
   "execution_count": 23,
   "metadata": {
    "collapsed": false,
    "deletable": true,
    "editable": true
   },
   "outputs": [
    {
     "name": "stdout",
     "output_type": "stream",
     "text": [
      "SELECT deviceID, sensorID, ts FROM readings where ts >1541021271619 and ts < 1541043671128 order by ts\n",
      "Creating a dataframe for the query...\n"
     ]
    }
   ],
   "source": [
    "synopsis_query = \"SELECT deviceID, sensorID, ts FROM readings where ts >1541021271619 and ts < 1541043671128 order by ts\"\n",
    "print(\"{}\\nCreating a dataframe for the query...\".format(synopsis_query))\n",
    "df_synopsis_query = eventSession.sql(synopsis_query)"
   ]
  },
  {
   "cell_type": "code",
   "execution_count": 24,
   "metadata": {
    "collapsed": false,
    "deletable": true,
    "editable": true
   },
   "outputs": [
    {
     "name": "stdout",
     "output_type": "stream",
     "text": [
      "CPU times: user 0 ns, sys: 0 ns, total: 0 ns\n",
      "Wall time: 742 ms\n"
     ]
    },
    {
     "data": {
      "text/plain": [
       "DataFrame[deviceID: int, sensorID: int, ts: bigint]"
      ]
     },
     "execution_count": 24,
     "metadata": {},
     "output_type": "execute_result"
    }
   ],
   "source": [
    "%%time\n",
    "df_synopsis_query.cache()"
   ]
  },
  {
   "cell_type": "code",
   "execution_count": 25,
   "metadata": {
    "collapsed": false,
    "deletable": true,
    "editable": true
   },
   "outputs": [
    {
     "data": {
      "text/html": [
       "<div>\n",
       "<table border=\"1\" class=\"dataframe\">\n",
       "  <thead>\n",
       "    <tr style=\"text-align: right;\">\n",
       "      <th></th>\n",
       "      <th>deviceID</th>\n",
       "      <th>sensorID</th>\n",
       "      <th>ts</th>\n",
       "    </tr>\n",
       "  </thead>\n",
       "  <tbody>\n",
       "    <tr>\n",
       "      <th>0</th>\n",
       "      <td>1</td>\n",
       "      <td>9</td>\n",
       "      <td>1541021272082</td>\n",
       "    </tr>\n",
       "    <tr>\n",
       "      <th>1</th>\n",
       "      <td>1</td>\n",
       "      <td>3</td>\n",
       "      <td>1541021272990</td>\n",
       "    </tr>\n",
       "    <tr>\n",
       "      <th>2</th>\n",
       "      <td>1</td>\n",
       "      <td>29</td>\n",
       "      <td>1541021273199</td>\n",
       "    </tr>\n",
       "    <tr>\n",
       "      <th>3</th>\n",
       "      <td>1</td>\n",
       "      <td>23</td>\n",
       "      <td>1541021274488</td>\n",
       "    </tr>\n",
       "    <tr>\n",
       "      <th>4</th>\n",
       "      <td>2</td>\n",
       "      <td>17</td>\n",
       "      <td>1541021275216</td>\n",
       "    </tr>\n",
       "    <tr>\n",
       "      <th>5</th>\n",
       "      <td>1</td>\n",
       "      <td>6</td>\n",
       "      <td>1541021276157</td>\n",
       "    </tr>\n",
       "    <tr>\n",
       "      <th>6</th>\n",
       "      <td>2</td>\n",
       "      <td>47</td>\n",
       "      <td>1541021276987</td>\n",
       "    </tr>\n",
       "    <tr>\n",
       "      <th>7</th>\n",
       "      <td>2</td>\n",
       "      <td>21</td>\n",
       "      <td>1541021277039</td>\n",
       "    </tr>\n",
       "    <tr>\n",
       "      <th>8</th>\n",
       "      <td>2</td>\n",
       "      <td>37</td>\n",
       "      <td>1541021277872</td>\n",
       "    </tr>\n",
       "    <tr>\n",
       "      <th>9</th>\n",
       "      <td>2</td>\n",
       "      <td>46</td>\n",
       "      <td>1541021278309</td>\n",
       "    </tr>\n",
       "    <tr>\n",
       "      <th>10</th>\n",
       "      <td>2</td>\n",
       "      <td>3</td>\n",
       "      <td>1541021279173</td>\n",
       "    </tr>\n",
       "    <tr>\n",
       "      <th>11</th>\n",
       "      <td>2</td>\n",
       "      <td>45</td>\n",
       "      <td>1541021280670</td>\n",
       "    </tr>\n",
       "    <tr>\n",
       "      <th>12</th>\n",
       "      <td>1</td>\n",
       "      <td>22</td>\n",
       "      <td>1541021282072</td>\n",
       "    </tr>\n",
       "    <tr>\n",
       "      <th>13</th>\n",
       "      <td>1</td>\n",
       "      <td>13</td>\n",
       "      <td>1541021282561</td>\n",
       "    </tr>\n",
       "    <tr>\n",
       "      <th>14</th>\n",
       "      <td>1</td>\n",
       "      <td>36</td>\n",
       "      <td>1541021283542</td>\n",
       "    </tr>\n",
       "    <tr>\n",
       "      <th>15</th>\n",
       "      <td>1</td>\n",
       "      <td>49</td>\n",
       "      <td>1541021284641</td>\n",
       "    </tr>\n",
       "    <tr>\n",
       "      <th>16</th>\n",
       "      <td>2</td>\n",
       "      <td>40</td>\n",
       "      <td>1541021284972</td>\n",
       "    </tr>\n",
       "    <tr>\n",
       "      <th>17</th>\n",
       "      <td>1</td>\n",
       "      <td>11</td>\n",
       "      <td>1541021285816</td>\n",
       "    </tr>\n",
       "    <tr>\n",
       "      <th>18</th>\n",
       "      <td>2</td>\n",
       "      <td>11</td>\n",
       "      <td>1541021287208</td>\n",
       "    </tr>\n",
       "    <tr>\n",
       "      <th>19</th>\n",
       "      <td>2</td>\n",
       "      <td>11</td>\n",
       "      <td>1541021288555</td>\n",
       "    </tr>\n",
       "    <tr>\n",
       "      <th>20</th>\n",
       "      <td>2</td>\n",
       "      <td>26</td>\n",
       "      <td>1541021290053</td>\n",
       "    </tr>\n",
       "    <tr>\n",
       "      <th>21</th>\n",
       "      <td>2</td>\n",
       "      <td>1</td>\n",
       "      <td>1541021290659</td>\n",
       "    </tr>\n",
       "    <tr>\n",
       "      <th>22</th>\n",
       "      <td>1</td>\n",
       "      <td>6</td>\n",
       "      <td>1541021291931</td>\n",
       "    </tr>\n",
       "    <tr>\n",
       "      <th>23</th>\n",
       "      <td>1</td>\n",
       "      <td>15</td>\n",
       "      <td>1541021292396</td>\n",
       "    </tr>\n",
       "    <tr>\n",
       "      <th>24</th>\n",
       "      <td>1</td>\n",
       "      <td>32</td>\n",
       "      <td>1541021292803</td>\n",
       "    </tr>\n",
       "    <tr>\n",
       "      <th>25</th>\n",
       "      <td>1</td>\n",
       "      <td>38</td>\n",
       "      <td>1541021293307</td>\n",
       "    </tr>\n",
       "    <tr>\n",
       "      <th>26</th>\n",
       "      <td>1</td>\n",
       "      <td>22</td>\n",
       "      <td>1541021294304</td>\n",
       "    </tr>\n",
       "    <tr>\n",
       "      <th>27</th>\n",
       "      <td>1</td>\n",
       "      <td>38</td>\n",
       "      <td>1541021295725</td>\n",
       "    </tr>\n",
       "    <tr>\n",
       "      <th>28</th>\n",
       "      <td>2</td>\n",
       "      <td>31</td>\n",
       "      <td>1541021296529</td>\n",
       "    </tr>\n",
       "    <tr>\n",
       "      <th>29</th>\n",
       "      <td>1</td>\n",
       "      <td>48</td>\n",
       "      <td>1541021297077</td>\n",
       "    </tr>\n",
       "    <tr>\n",
       "      <th>...</th>\n",
       "      <td>...</td>\n",
       "      <td>...</td>\n",
       "      <td>...</td>\n",
       "    </tr>\n",
       "    <tr>\n",
       "      <th>29588</th>\n",
       "      <td>2</td>\n",
       "      <td>22</td>\n",
       "      <td>1541043649030</td>\n",
       "    </tr>\n",
       "    <tr>\n",
       "      <th>29589</th>\n",
       "      <td>1</td>\n",
       "      <td>48</td>\n",
       "      <td>1541043650424</td>\n",
       "    </tr>\n",
       "    <tr>\n",
       "      <th>29590</th>\n",
       "      <td>1</td>\n",
       "      <td>41</td>\n",
       "      <td>1541043650576</td>\n",
       "    </tr>\n",
       "    <tr>\n",
       "      <th>29591</th>\n",
       "      <td>2</td>\n",
       "      <td>3</td>\n",
       "      <td>1541043651498</td>\n",
       "    </tr>\n",
       "    <tr>\n",
       "      <th>29592</th>\n",
       "      <td>1</td>\n",
       "      <td>35</td>\n",
       "      <td>1541043652965</td>\n",
       "    </tr>\n",
       "    <tr>\n",
       "      <th>29593</th>\n",
       "      <td>2</td>\n",
       "      <td>23</td>\n",
       "      <td>1541043653592</td>\n",
       "    </tr>\n",
       "    <tr>\n",
       "      <th>29594</th>\n",
       "      <td>2</td>\n",
       "      <td>6</td>\n",
       "      <td>1541043654247</td>\n",
       "    </tr>\n",
       "    <tr>\n",
       "      <th>29595</th>\n",
       "      <td>1</td>\n",
       "      <td>46</td>\n",
       "      <td>1541043655732</td>\n",
       "    </tr>\n",
       "    <tr>\n",
       "      <th>29596</th>\n",
       "      <td>1</td>\n",
       "      <td>48</td>\n",
       "      <td>1541043657163</td>\n",
       "    </tr>\n",
       "    <tr>\n",
       "      <th>29597</th>\n",
       "      <td>1</td>\n",
       "      <td>22</td>\n",
       "      <td>1541043658283</td>\n",
       "    </tr>\n",
       "    <tr>\n",
       "      <th>29598</th>\n",
       "      <td>1</td>\n",
       "      <td>39</td>\n",
       "      <td>1541043659330</td>\n",
       "    </tr>\n",
       "    <tr>\n",
       "      <th>29599</th>\n",
       "      <td>1</td>\n",
       "      <td>40</td>\n",
       "      <td>1541043659620</td>\n",
       "    </tr>\n",
       "    <tr>\n",
       "      <th>29600</th>\n",
       "      <td>1</td>\n",
       "      <td>28</td>\n",
       "      <td>1541043661103</td>\n",
       "    </tr>\n",
       "    <tr>\n",
       "      <th>29601</th>\n",
       "      <td>1</td>\n",
       "      <td>16</td>\n",
       "      <td>1541043661548</td>\n",
       "    </tr>\n",
       "    <tr>\n",
       "      <th>29602</th>\n",
       "      <td>1</td>\n",
       "      <td>48</td>\n",
       "      <td>1541043661912</td>\n",
       "    </tr>\n",
       "    <tr>\n",
       "      <th>29603</th>\n",
       "      <td>1</td>\n",
       "      <td>7</td>\n",
       "      <td>1541043662114</td>\n",
       "    </tr>\n",
       "    <tr>\n",
       "      <th>29604</th>\n",
       "      <td>2</td>\n",
       "      <td>3</td>\n",
       "      <td>1541043663281</td>\n",
       "    </tr>\n",
       "    <tr>\n",
       "      <th>29605</th>\n",
       "      <td>1</td>\n",
       "      <td>15</td>\n",
       "      <td>1541043664559</td>\n",
       "    </tr>\n",
       "    <tr>\n",
       "      <th>29606</th>\n",
       "      <td>2</td>\n",
       "      <td>17</td>\n",
       "      <td>1541043665252</td>\n",
       "    </tr>\n",
       "    <tr>\n",
       "      <th>29607</th>\n",
       "      <td>1</td>\n",
       "      <td>28</td>\n",
       "      <td>1541043666335</td>\n",
       "    </tr>\n",
       "    <tr>\n",
       "      <th>29608</th>\n",
       "      <td>1</td>\n",
       "      <td>9</td>\n",
       "      <td>1541043666800</td>\n",
       "    </tr>\n",
       "    <tr>\n",
       "      <th>29609</th>\n",
       "      <td>1</td>\n",
       "      <td>9</td>\n",
       "      <td>1541043666839</td>\n",
       "    </tr>\n",
       "    <tr>\n",
       "      <th>29610</th>\n",
       "      <td>1</td>\n",
       "      <td>42</td>\n",
       "      <td>1541043667737</td>\n",
       "    </tr>\n",
       "    <tr>\n",
       "      <th>29611</th>\n",
       "      <td>2</td>\n",
       "      <td>49</td>\n",
       "      <td>1541043668559</td>\n",
       "    </tr>\n",
       "    <tr>\n",
       "      <th>29612</th>\n",
       "      <td>1</td>\n",
       "      <td>41</td>\n",
       "      <td>1541043668809</td>\n",
       "    </tr>\n",
       "    <tr>\n",
       "      <th>29613</th>\n",
       "      <td>1</td>\n",
       "      <td>17</td>\n",
       "      <td>1541043669145</td>\n",
       "    </tr>\n",
       "    <tr>\n",
       "      <th>29614</th>\n",
       "      <td>1</td>\n",
       "      <td>39</td>\n",
       "      <td>1541043669790</td>\n",
       "    </tr>\n",
       "    <tr>\n",
       "      <th>29615</th>\n",
       "      <td>2</td>\n",
       "      <td>28</td>\n",
       "      <td>1541043670005</td>\n",
       "    </tr>\n",
       "    <tr>\n",
       "      <th>29616</th>\n",
       "      <td>2</td>\n",
       "      <td>47</td>\n",
       "      <td>1541043670101</td>\n",
       "    </tr>\n",
       "    <tr>\n",
       "      <th>29617</th>\n",
       "      <td>1</td>\n",
       "      <td>13</td>\n",
       "      <td>1541043670610</td>\n",
       "    </tr>\n",
       "  </tbody>\n",
       "</table>\n",
       "<p>29618 rows × 3 columns</p>\n",
       "</div>"
      ],
      "text/plain": [
       "       deviceID  sensorID             ts\n",
       "0             1         9  1541021272082\n",
       "1             1         3  1541021272990\n",
       "2             1        29  1541021273199\n",
       "3             1        23  1541021274488\n",
       "4             2        17  1541021275216\n",
       "5             1         6  1541021276157\n",
       "6             2        47  1541021276987\n",
       "7             2        21  1541021277039\n",
       "8             2        37  1541021277872\n",
       "9             2        46  1541021278309\n",
       "10            2         3  1541021279173\n",
       "11            2        45  1541021280670\n",
       "12            1        22  1541021282072\n",
       "13            1        13  1541021282561\n",
       "14            1        36  1541021283542\n",
       "15            1        49  1541021284641\n",
       "16            2        40  1541021284972\n",
       "17            1        11  1541021285816\n",
       "18            2        11  1541021287208\n",
       "19            2        11  1541021288555\n",
       "20            2        26  1541021290053\n",
       "21            2         1  1541021290659\n",
       "22            1         6  1541021291931\n",
       "23            1        15  1541021292396\n",
       "24            1        32  1541021292803\n",
       "25            1        38  1541021293307\n",
       "26            1        22  1541021294304\n",
       "27            1        38  1541021295725\n",
       "28            2        31  1541021296529\n",
       "29            1        48  1541021297077\n",
       "...         ...       ...            ...\n",
       "29588         2        22  1541043649030\n",
       "29589         1        48  1541043650424\n",
       "29590         1        41  1541043650576\n",
       "29591         2         3  1541043651498\n",
       "29592         1        35  1541043652965\n",
       "29593         2        23  1541043653592\n",
       "29594         2         6  1541043654247\n",
       "29595         1        46  1541043655732\n",
       "29596         1        48  1541043657163\n",
       "29597         1        22  1541043658283\n",
       "29598         1        39  1541043659330\n",
       "29599         1        40  1541043659620\n",
       "29600         1        28  1541043661103\n",
       "29601         1        16  1541043661548\n",
       "29602         1        48  1541043661912\n",
       "29603         1         7  1541043662114\n",
       "29604         2         3  1541043663281\n",
       "29605         1        15  1541043664559\n",
       "29606         2        17  1541043665252\n",
       "29607         1        28  1541043666335\n",
       "29608         1         9  1541043666800\n",
       "29609         1         9  1541043666839\n",
       "29610         1        42  1541043667737\n",
       "29611         2        49  1541043668559\n",
       "29612         1        41  1541043668809\n",
       "29613         1        17  1541043669145\n",
       "29614         1        39  1541043669790\n",
       "29615         2        28  1541043670005\n",
       "29616         2        47  1541043670101\n",
       "29617         1        13  1541043670610\n",
       "\n",
       "[29618 rows x 3 columns]"
      ]
     },
     "execution_count": 25,
     "metadata": {},
     "output_type": "execute_result"
    }
   ],
   "source": [
    "df_synopsis_query.toPandas()"
   ]
  },
  {
   "cell_type": "markdown",
   "metadata": {
    "deletable": true,
    "editable": true
   },
   "source": [
    "## Summary\n",
    "This demo introduced you to the best practices querying the table stored in IBM Db2 Event Store database.\n",
    "\n",
    "## Next Step\n",
    "`\"Event_Store_Data_Analytics.ipynb\"` will show you how to perform data analytics with IBM Db2 Event Store with multiple scientific tools."
   ]
  },
  {
   "cell_type": "code",
   "execution_count": null,
   "metadata": {
    "collapsed": true
   },
   "outputs": [],
   "source": []
  }
 ],
 "metadata": {
  "kernelspec": {
   "display_name": "Python 3",
   "language": "python",
   "name": "python3"
  },
  "language_info": {
   "codemirror_mode": {
    "name": "ipython",
    "version": 3
   },
   "file_extension": ".py",
   "mimetype": "text/x-python",
   "name": "python",
   "nbconvert_exporter": "python",
   "pygments_lexer": "ipython3",
   "version": "3.5.3"
  }
 },
 "nbformat": 4,
 "nbformat_minor": 2
}
