{
 "cells": [
  {
   "cell_type": "markdown",
   "metadata": {},
   "source": [
    "# Database and table creation\n",
    "\n",
    "In this notebook, you will explore the best practices for IBM Db2 Event Store. You will learn:\n",
    "- Database creation with IBM Db2 Event Store\n",
    "- Best practices for table definition\n",
    "- Best practices for indexing a table\n",
    "- How to insert data from a CSV file"
   ]
  },
  {
   "cell_type": "markdown",
   "metadata": {},
   "source": [
    "## Connect to IBM Db2 Event Store\n",
    "\n",
    "### Determine the IP address of your host\n",
    "\n",
    "Obtain the IP address of the host that you want to connect to by running the appropriate command for your operating system:\n",
    "\n",
    "* On Mac, run: `ifconfig`\n",
    "* On Windows, run: `ipconfig`\n",
    "* On Linux, run: `hostname -i`\n",
    "\n",
    "Edit the `HOST = \"XXX.XXX.XXX.XXX\"` value in the next cell to provide the IP address."
   ]
  },
  {
   "cell_type": "code",
   "execution_count": 6,
   "metadata": {
    "collapsed": false
   },
   "outputs": [],
   "source": [
    "# Set your host IP address\n",
    "HOST = \"XXX.XXX.XXX.XXX\"\n",
    "\n",
    "# Port will be 1100 for version 1.1.2 or later (5555 for version 1.1.1)\n",
    "PORT = \"1100\"\n",
    "\n",
    "# Database name\n",
    "DB_NAME = \"TESTDB\"\n",
    "\n",
    "# Table name\n",
    "TABLE_NAME = \"IOT_TEMPERATURE\""
   ]
  },
  {
   "cell_type": "markdown",
   "metadata": {},
   "source": [
    "## Import Python modules\n"
   ]
  },
  {
   "cell_type": "code",
   "execution_count": 7,
   "metadata": {
    "collapsed": false
   },
   "outputs": [],
   "source": [
    "from eventstore.common import ConfigurationReader\n",
    "from eventstore.oltp import EventContext\n",
    "from eventstore.sql import EventSession\n",
    "from pyspark.sql import SparkSession"
   ]
  },
  {
   "cell_type": "markdown",
   "metadata": {},
   "source": [
    "## Connect to Event Store"
   ]
  },
  {
   "cell_type": "code",
   "execution_count": 8,
   "metadata": {
    "collapsed": false
   },
   "outputs": [
    {
     "name": "stdout",
     "output_type": "stream",
     "text": [
      "Event Store connection endpoint: 192.168.0.106:1100\n"
     ]
    }
   ],
   "source": [
    "endpoint = HOST + \":\" + PORT\n",
    "print(\"Event Store connection endpoint:\", endpoint)\n",
    "ConfigurationReader.setConnectionEndpoints(endpoint)"
   ]
  },
  {
   "cell_type": "markdown",
   "metadata": {},
   "source": [
    "To run Spark SQL queries, you must set up a Db2 Event Store Spark session. The EventSession class extends the optimizer of the SparkSession class."
   ]
  },
  {
   "cell_type": "code",
   "execution_count": 9,
   "metadata": {
    "collapsed": true
   },
   "outputs": [],
   "source": [
    "sparkSession = SparkSession.builder.appName(\"EventStore SQL in Python\").getOrCreate()\n",
    "eventSession = EventSession(sparkSession.sparkContext, DB_NAME)"
   ]
  },
  {
   "cell_type": "markdown",
   "metadata": {},
   "source": [
    "## Create the database\n",
    "Run the following cell to try to create the database.\n",
    "\n",
    "> Only one database can be active in Event Store Developer Edition. If you already have a database, you don't need to create one. To create a database in Event Store, you can use the createDatabase function. If you want to drop an existing database to create a new one, use the dropDatabase function first."
   ]
  },
  {
   "cell_type": "code",
   "execution_count": 10,
   "metadata": {
    "collapsed": false
   },
   "outputs": [
    {
     "data": {
      "text/plain": [
       "<eventstore.oltp.context.EventContext at 0x7fc33c045e10>"
      ]
     },
     "execution_count": 10,
     "metadata": {},
     "output_type": "execute_result"
    }
   ],
   "source": [
    "# Run this cell if you need to (DROP and/or) CREATE the database.\n",
    "\n",
    "# EventContext.drop_database(DB_NAME)   # Uncomment this if you want to drop an existing database\n",
    "EventContext.create_database(DB_NAME)   # Comment this out (or skip this cell) to re-use an existing database"
   ]
  },
  {
   "cell_type": "markdown",
   "metadata": {},
   "source": [
    "Now you can execute the command to open the database in the event session you created:"
   ]
  },
  {
   "cell_type": "code",
   "execution_count": 11,
   "metadata": {
    "collapsed": true
   },
   "outputs": [],
   "source": [
    "eventSession.open_database()"
   ]
  },
  {
   "cell_type": "markdown",
   "metadata": {},
   "source": [
    "## Explore the database by retrieving all table names"
   ]
  },
  {
   "cell_type": "markdown",
   "metadata": {},
   "source": [
    "The following cell retrieves and prints the names of all tables in the database.\n",
    "Run it now. You can come back and run it again after you create a table."
   ]
  },
  {
   "cell_type": "code",
   "execution_count": 12,
   "metadata": {
    "collapsed": false
   },
   "outputs": [
    {
     "name": "stdout",
     "output_type": "stream",
     "text": [
      "Event context successfully retrieved.\n",
      "Table names:\n"
     ]
    }
   ],
   "source": [
    "with EventContext.get_event_context(DB_NAME) as ctx:\n",
    "   print(\"Event context successfully retrieved.\")\n",
    "\n",
    "print(\"Table names:\")\n",
    "table_names = ctx.get_names_of_tables()\n",
    "for name in table_names:\n",
    "   print(name)"
   ]
  },
  {
   "cell_type": "markdown",
   "metadata": {},
   "source": [
    "## Create a table with an index"
   ]
  },
  {
   "cell_type": "markdown",
   "metadata": {},
   "source": [
    "The next cell defines the schema for the table we want to create."
   ]
  },
  {
   "cell_type": "code",
   "execution_count": 14,
   "metadata": {
    "collapsed": false
   },
   "outputs": [],
   "source": [
    "from eventstore.catalog import TableSchema\n",
    "from pyspark.sql.types import *\n",
    "\n",
    "tabSchema = TableSchema(TABLE_NAME, StructType([\n",
    "    StructField(\"deviceID\", IntegerType(), nullable = False),\n",
    "    StructField(\"sensorID\", IntegerType(), nullable = False),\n",
    "    StructField(\"ts\", LongType(), nullable = False),\n",
    "    StructField(\"ambient_temp\", DoubleType(), nullable = False),\n",
    "    StructField(\"power\", DoubleType(), nullable = False),\n",
    "    StructField(\"temperature\", DoubleType(), nullable = False)\n",
    "    ]),\n",
    "    sharding_columns = [\"deviceID\", \"sensorID\"],\n",
    "    pk_columns = [\"deviceID\", \"sensorID\", \"ts\"]\n",
    "                       )"
   ]
  },
  {
   "cell_type": "markdown",
   "metadata": {},
   "source": [
    "The following cell defines the index schema which includes two equality columns -- *deviceID* and *sensorId*. The entries are sorted by *timestamp* in descending order. The *temperature* column is included to speed up queries that retrieve temperature:"
   ]
  },
  {
   "cell_type": "code",
   "execution_count": 15,
   "metadata": {
    "collapsed": true
   },
   "outputs": [],
   "source": [
    "from eventstore.catalog import IndexSpecification, SortSpecification, ColumnOrder\n",
    "\n",
    "indexSchema = IndexSpecification(\n",
    "          index_name=TABLE_NAME + \"Index\",\n",
    "          table_schema=tabSchema,\n",
    "          equal_columns = [\"deviceID\", \"sensorID\"],\n",
    "          sort_columns = [\n",
    "            SortSpecification(\"ts\", ColumnOrder.DESCENDING_NULLS_LAST)],\n",
    "          include_columns = [\"temperature\"]\n",
    "        )"
   ]
  },
  {
   "cell_type": "markdown",
   "metadata": {},
   "source": [
    "Finally, the following cell is used to create the table with the index using the `create_table_with_index()` method, passing both the table schema and the index schema defined above:"
   ]
  },
  {
   "cell_type": "code",
   "execution_count": 20,
   "metadata": {
    "collapsed": false
   },
   "outputs": [],
   "source": [
    "with EventContext.get_event_context(DB_NAME) as ctx:\n",
    "   res = ctx.create_table_with_index(tabSchema, indexSchema)"
   ]
  },
  {
   "cell_type": "markdown",
   "metadata": {},
   "source": [
    "To drop a table we use the drop_table command, like in the cell below, but it is commented out and provided here only as a reference."
   ]
  },
  {
   "cell_type": "code",
   "execution_count": 21,
   "metadata": {
    "collapsed": true
   },
   "outputs": [],
   "source": [
    "# with EventContext.get_event_context(DB_NAME) as ctx:\n",
    "#     ctx.drop_table(TABLE_NAME)"
   ]
  },
  {
   "cell_type": "markdown",
   "metadata": {},
   "source": [
    "## Load the tables and inspect the table schemas"
   ]
  },
  {
   "cell_type": "markdown",
   "metadata": {},
   "source": [
    "Get the DataFrame references to be able to access the table with your queries. The following code loads the table and creates a temporary view for it."
   ]
  },
  {
   "cell_type": "code",
   "execution_count": 22,
   "metadata": {
    "collapsed": false
   },
   "outputs": [
    {
     "name": "stdout",
     "output_type": "stream",
     "text": [
      "Table IOT_TEMPERATURE successfully loaded and temporary view created.\n"
     ]
    }
   ],
   "source": [
    "tab = eventSession.load_event_table(TABLE_NAME)\n",
    "tab.createOrReplaceTempView(TABLE_NAME)\n",
    "print(\"Table \" + TABLE_NAME + \" successfully loaded and temporary view created.\")"
   ]
  },
  {
   "cell_type": "markdown",
   "metadata": {},
   "source": [
    "The following cell can be used to show the schema of the table created:"
   ]
  },
  {
   "cell_type": "code",
   "execution_count": 23,
   "metadata": {
    "collapsed": false
   },
   "outputs": [
    {
     "name": "stdout",
     "output_type": "stream",
     "text": [
      "ResolvedTableSchema(tableName=IOT_TEMPERATURE, schema=StructType(List(StructField(deviceID,IntegerType,false),StructField(sensorID,IntegerType,false),StructField(ts,LongType,false),StructField(ambient_temp,DoubleType,false),StructField(power,DoubleType,false),StructField(temperature,DoubleType,false))), sharding_columns=['deviceID', 'sensorID'], pk_columns=['deviceID', 'sensorID', 'ts'], partition_columns=None)\n"
     ]
    }
   ],
   "source": [
    "try:\n",
    "    resolved_table_schema = ctx.get_table(TABLE_NAME)\n",
    "    print(resolved_table_schema)\n",
    "except Exception as err:\n",
    "    print(\"Table \" + TABLE_NAME + \" not found\")"
   ]
  },
  {
   "cell_type": "markdown",
   "metadata": {},
   "source": [
    "## Load the sample data\n",
    "\n",
    "Let's insert some sample data into the table before starting analysis.\n",
    "To load data into the table, you will have to:\n",
    "\n",
    "- Use the Event Store UI to add the \"sample_IOT_table.csv\" file as a project data asset.\n",
    "- Run the following cells to load the data from **assets**."
   ]
  },
  {
   "cell_type": "markdown",
   "metadata": {},
   "source": [
    "### Read the CSV into a pandas DataFrame"
   ]
  },
  {
   "cell_type": "code",
   "execution_count": 24,
   "metadata": {
    "collapsed": false
   },
   "outputs": [
    {
     "data": {
      "text/html": [
       "<div>\n",
       "<table border=\"1\" class=\"dataframe\">\n",
       "  <thead>\n",
       "    <tr style=\"text-align: right;\">\n",
       "      <th></th>\n",
       "      <th>1</th>\n",
       "      <th>48</th>\n",
       "      <th>1541019342393</th>\n",
       "      <th>25.983183481618322</th>\n",
       "      <th>14.65874116573845</th>\n",
       "      <th>48.908846094198</th>\n",
       "    </tr>\n",
       "  </thead>\n",
       "  <tbody>\n",
       "    <tr>\n",
       "      <th>0</th>\n",
       "      <td>1</td>\n",
       "      <td>24</td>\n",
       "      <td>1541019343497</td>\n",
       "      <td>22.545444</td>\n",
       "      <td>9.834895</td>\n",
       "      <td>39.065559</td>\n",
       "    </tr>\n",
       "    <tr>\n",
       "      <th>1</th>\n",
       "      <td>2</td>\n",
       "      <td>39</td>\n",
       "      <td>1541019344356</td>\n",
       "      <td>24.324654</td>\n",
       "      <td>14.100638</td>\n",
       "      <td>44.398837</td>\n",
       "    </tr>\n",
       "    <tr>\n",
       "      <th>2</th>\n",
       "      <td>2</td>\n",
       "      <td>1</td>\n",
       "      <td>1541019345216</td>\n",
       "      <td>25.658281</td>\n",
       "      <td>14.243132</td>\n",
       "      <td>45.291255</td>\n",
       "    </tr>\n",
       "    <tr>\n",
       "      <th>3</th>\n",
       "      <td>2</td>\n",
       "      <td>20</td>\n",
       "      <td>1541019346515</td>\n",
       "      <td>26.836546</td>\n",
       "      <td>12.841558</td>\n",
       "      <td>48.700130</td>\n",
       "    </tr>\n",
       "    <tr>\n",
       "      <th>4</th>\n",
       "      <td>1</td>\n",
       "      <td>24</td>\n",
       "      <td>1541019347200</td>\n",
       "      <td>24.960868</td>\n",
       "      <td>11.773728</td>\n",
       "      <td>42.161830</td>\n",
       "    </tr>\n",
       "    <tr>\n",
       "      <th>5</th>\n",
       "      <td>1</td>\n",
       "      <td>35</td>\n",
       "      <td>1541019347966</td>\n",
       "      <td>23.702428</td>\n",
       "      <td>7.518410</td>\n",
       "      <td>40.792013</td>\n",
       "    </tr>\n",
       "    <tr>\n",
       "      <th>6</th>\n",
       "      <td>1</td>\n",
       "      <td>32</td>\n",
       "      <td>1541019348864</td>\n",
       "      <td>24.041499</td>\n",
       "      <td>10.201932</td>\n",
       "      <td>41.664663</td>\n",
       "    </tr>\n",
       "    <tr>\n",
       "      <th>7</th>\n",
       "      <td>2</td>\n",
       "      <td>47</td>\n",
       "      <td>1541019349485</td>\n",
       "      <td>27.085396</td>\n",
       "      <td>7.805625</td>\n",
       "      <td>45.607395</td>\n",
       "    </tr>\n",
       "    <tr>\n",
       "      <th>8</th>\n",
       "      <td>1</td>\n",
       "      <td>12</td>\n",
       "      <td>1541019349819</td>\n",
       "      <td>20.633590</td>\n",
       "      <td>10.344878</td>\n",
       "      <td>37.514075</td>\n",
       "    </tr>\n",
       "    <tr>\n",
       "      <th>9</th>\n",
       "      <td>1</td>\n",
       "      <td>4</td>\n",
       "      <td>1541019350783</td>\n",
       "      <td>23.012288</td>\n",
       "      <td>2.447689</td>\n",
       "      <td>34.796619</td>\n",
       "    </tr>\n",
       "    <tr>\n",
       "      <th>10</th>\n",
       "      <td>2</td>\n",
       "      <td>36</td>\n",
       "      <td>1541019352265</td>\n",
       "      <td>25.273805</td>\n",
       "      <td>14.528335</td>\n",
       "      <td>46.721777</td>\n",
       "    </tr>\n",
       "    <tr>\n",
       "      <th>11</th>\n",
       "      <td>1</td>\n",
       "      <td>30</td>\n",
       "      <td>1541019352643</td>\n",
       "      <td>24.553738</td>\n",
       "      <td>13.167511</td>\n",
       "      <td>45.717600</td>\n",
       "    </tr>\n",
       "    <tr>\n",
       "      <th>12</th>\n",
       "      <td>1</td>\n",
       "      <td>11</td>\n",
       "      <td>1541019353023</td>\n",
       "      <td>25.793560</td>\n",
       "      <td>9.962966</td>\n",
       "      <td>43.576293</td>\n",
       "    </tr>\n",
       "    <tr>\n",
       "      <th>13</th>\n",
       "      <td>2</td>\n",
       "      <td>3</td>\n",
       "      <td>1541019353767</td>\n",
       "      <td>25.948013</td>\n",
       "      <td>11.077008</td>\n",
       "      <td>44.537060</td>\n",
       "    </tr>\n",
       "    <tr>\n",
       "      <th>14</th>\n",
       "      <td>2</td>\n",
       "      <td>21</td>\n",
       "      <td>1541019353986</td>\n",
       "      <td>23.696438</td>\n",
       "      <td>12.558778</td>\n",
       "      <td>42.112294</td>\n",
       "    </tr>\n",
       "    <tr>\n",
       "      <th>15</th>\n",
       "      <td>1</td>\n",
       "      <td>2</td>\n",
       "      <td>1541019354868</td>\n",
       "      <td>24.051922</td>\n",
       "      <td>8.739450</td>\n",
       "      <td>39.379728</td>\n",
       "    </tr>\n",
       "    <tr>\n",
       "      <th>16</th>\n",
       "      <td>1</td>\n",
       "      <td>1</td>\n",
       "      <td>1541019355684</td>\n",
       "      <td>25.262327</td>\n",
       "      <td>11.024762</td>\n",
       "      <td>41.477078</td>\n",
       "    </tr>\n",
       "    <tr>\n",
       "      <th>17</th>\n",
       "      <td>1</td>\n",
       "      <td>41</td>\n",
       "      <td>1541019356464</td>\n",
       "      <td>22.503235</td>\n",
       "      <td>8.897087</td>\n",
       "      <td>40.090626</td>\n",
       "    </tr>\n",
       "    <tr>\n",
       "      <th>18</th>\n",
       "      <td>2</td>\n",
       "      <td>49</td>\n",
       "      <td>1541019356770</td>\n",
       "      <td>22.690428</td>\n",
       "      <td>8.263274</td>\n",
       "      <td>40.769616</td>\n",
       "    </tr>\n",
       "    <tr>\n",
       "      <th>19</th>\n",
       "      <td>1</td>\n",
       "      <td>3</td>\n",
       "      <td>1541019358064</td>\n",
       "      <td>26.122321</td>\n",
       "      <td>10.863384</td>\n",
       "      <td>43.677045</td>\n",
       "    </tr>\n",
       "    <tr>\n",
       "      <th>20</th>\n",
       "      <td>2</td>\n",
       "      <td>17</td>\n",
       "      <td>1541019359250</td>\n",
       "      <td>27.381462</td>\n",
       "      <td>15.268321</td>\n",
       "      <td>49.689531</td>\n",
       "    </tr>\n",
       "    <tr>\n",
       "      <th>21</th>\n",
       "      <td>2</td>\n",
       "      <td>20</td>\n",
       "      <td>1541019360023</td>\n",
       "      <td>22.519680</td>\n",
       "      <td>15.617182</td>\n",
       "      <td>40.178447</td>\n",
       "    </tr>\n",
       "    <tr>\n",
       "      <th>22</th>\n",
       "      <td>2</td>\n",
       "      <td>42</td>\n",
       "      <td>1541019360307</td>\n",
       "      <td>26.438793</td>\n",
       "      <td>9.232628</td>\n",
       "      <td>42.915167</td>\n",
       "    </tr>\n",
       "    <tr>\n",
       "      <th>23</th>\n",
       "      <td>2</td>\n",
       "      <td>32</td>\n",
       "      <td>1541019360551</td>\n",
       "      <td>22.340444</td>\n",
       "      <td>7.919727</td>\n",
       "      <td>38.392042</td>\n",
       "    </tr>\n",
       "    <tr>\n",
       "      <th>24</th>\n",
       "      <td>2</td>\n",
       "      <td>33</td>\n",
       "      <td>1541019361596</td>\n",
       "      <td>21.137303</td>\n",
       "      <td>10.666780</td>\n",
       "      <td>38.464658</td>\n",
       "    </tr>\n",
       "    <tr>\n",
       "      <th>25</th>\n",
       "      <td>2</td>\n",
       "      <td>38</td>\n",
       "      <td>1541019362269</td>\n",
       "      <td>25.252851</td>\n",
       "      <td>6.701798</td>\n",
       "      <td>41.873143</td>\n",
       "    </tr>\n",
       "    <tr>\n",
       "      <th>26</th>\n",
       "      <td>2</td>\n",
       "      <td>30</td>\n",
       "      <td>1541019362826</td>\n",
       "      <td>25.207097</td>\n",
       "      <td>6.485804</td>\n",
       "      <td>38.226497</td>\n",
       "    </tr>\n",
       "    <tr>\n",
       "      <th>27</th>\n",
       "      <td>1</td>\n",
       "      <td>45</td>\n",
       "      <td>1541019363921</td>\n",
       "      <td>25.985591</td>\n",
       "      <td>7.735055</td>\n",
       "      <td>41.493922</td>\n",
       "    </tr>\n",
       "    <tr>\n",
       "      <th>28</th>\n",
       "      <td>1</td>\n",
       "      <td>25</td>\n",
       "      <td>1541019363964</td>\n",
       "      <td>25.578498</td>\n",
       "      <td>6.909944</td>\n",
       "      <td>40.930842</td>\n",
       "    </tr>\n",
       "    <tr>\n",
       "      <th>29</th>\n",
       "      <td>1</td>\n",
       "      <td>12</td>\n",
       "      <td>1541019365252</td>\n",
       "      <td>26.621902</td>\n",
       "      <td>9.689433</td>\n",
       "      <td>44.749653</td>\n",
       "    </tr>\n",
       "    <tr>\n",
       "      <th>...</th>\n",
       "      <td>...</td>\n",
       "      <td>...</td>\n",
       "      <td>...</td>\n",
       "      <td>...</td>\n",
       "      <td>...</td>\n",
       "      <td>...</td>\n",
       "    </tr>\n",
       "    <tr>\n",
       "      <th>999969</th>\n",
       "      <td>2</td>\n",
       "      <td>24</td>\n",
       "      <td>1541773977412</td>\n",
       "      <td>24.060148</td>\n",
       "      <td>14.663977</td>\n",
       "      <td>43.264698</td>\n",
       "    </tr>\n",
       "    <tr>\n",
       "      <th>999970</th>\n",
       "      <td>2</td>\n",
       "      <td>48</td>\n",
       "      <td>1541773978832</td>\n",
       "      <td>25.655149</td>\n",
       "      <td>10.286990</td>\n",
       "      <td>43.373358</td>\n",
       "    </tr>\n",
       "    <tr>\n",
       "      <th>999971</th>\n",
       "      <td>2</td>\n",
       "      <td>42</td>\n",
       "      <td>1541773980218</td>\n",
       "      <td>23.225700</td>\n",
       "      <td>11.680755</td>\n",
       "      <td>41.804606</td>\n",
       "    </tr>\n",
       "    <tr>\n",
       "      <th>999972</th>\n",
       "      <td>1</td>\n",
       "      <td>15</td>\n",
       "      <td>1541773981137</td>\n",
       "      <td>29.386669</td>\n",
       "      <td>13.603086</td>\n",
       "      <td>49.396602</td>\n",
       "    </tr>\n",
       "    <tr>\n",
       "      <th>999973</th>\n",
       "      <td>2</td>\n",
       "      <td>7</td>\n",
       "      <td>1541773981682</td>\n",
       "      <td>23.656975</td>\n",
       "      <td>9.583688</td>\n",
       "      <td>39.819744</td>\n",
       "    </tr>\n",
       "    <tr>\n",
       "      <th>999974</th>\n",
       "      <td>1</td>\n",
       "      <td>39</td>\n",
       "      <td>1541773982049</td>\n",
       "      <td>25.525584</td>\n",
       "      <td>6.819388</td>\n",
       "      <td>42.501481</td>\n",
       "    </tr>\n",
       "    <tr>\n",
       "      <th>999975</th>\n",
       "      <td>2</td>\n",
       "      <td>11</td>\n",
       "      <td>1541773983287</td>\n",
       "      <td>26.546601</td>\n",
       "      <td>9.417194</td>\n",
       "      <td>44.872562</td>\n",
       "    </tr>\n",
       "    <tr>\n",
       "      <th>999976</th>\n",
       "      <td>1</td>\n",
       "      <td>39</td>\n",
       "      <td>1541773984279</td>\n",
       "      <td>27.035885</td>\n",
       "      <td>5.104834</td>\n",
       "      <td>44.228640</td>\n",
       "    </tr>\n",
       "    <tr>\n",
       "      <th>999977</th>\n",
       "      <td>2</td>\n",
       "      <td>41</td>\n",
       "      <td>1541773985501</td>\n",
       "      <td>22.426917</td>\n",
       "      <td>10.266636</td>\n",
       "      <td>39.951378</td>\n",
       "    </tr>\n",
       "    <tr>\n",
       "      <th>999978</th>\n",
       "      <td>2</td>\n",
       "      <td>49</td>\n",
       "      <td>1541773986874</td>\n",
       "      <td>24.246396</td>\n",
       "      <td>11.686802</td>\n",
       "      <td>39.719670</td>\n",
       "    </tr>\n",
       "    <tr>\n",
       "      <th>999979</th>\n",
       "      <td>2</td>\n",
       "      <td>9</td>\n",
       "      <td>1541773988130</td>\n",
       "      <td>24.018065</td>\n",
       "      <td>14.349021</td>\n",
       "      <td>42.725063</td>\n",
       "    </tr>\n",
       "    <tr>\n",
       "      <th>999980</th>\n",
       "      <td>1</td>\n",
       "      <td>42</td>\n",
       "      <td>1541773988413</td>\n",
       "      <td>27.064976</td>\n",
       "      <td>9.542234</td>\n",
       "      <td>46.278950</td>\n",
       "    </tr>\n",
       "    <tr>\n",
       "      <th>999981</th>\n",
       "      <td>2</td>\n",
       "      <td>2</td>\n",
       "      <td>1541773989793</td>\n",
       "      <td>25.002696</td>\n",
       "      <td>13.474847</td>\n",
       "      <td>44.322779</td>\n",
       "    </tr>\n",
       "    <tr>\n",
       "      <th>999982</th>\n",
       "      <td>2</td>\n",
       "      <td>32</td>\n",
       "      <td>1541773990916</td>\n",
       "      <td>25.228250</td>\n",
       "      <td>13.586325</td>\n",
       "      <td>47.565071</td>\n",
       "    </tr>\n",
       "    <tr>\n",
       "      <th>999983</th>\n",
       "      <td>2</td>\n",
       "      <td>2</td>\n",
       "      <td>1541773991567</td>\n",
       "      <td>25.058928</td>\n",
       "      <td>10.938571</td>\n",
       "      <td>41.931128</td>\n",
       "    </tr>\n",
       "    <tr>\n",
       "      <th>999984</th>\n",
       "      <td>2</td>\n",
       "      <td>22</td>\n",
       "      <td>1541773991687</td>\n",
       "      <td>25.080734</td>\n",
       "      <td>8.863801</td>\n",
       "      <td>40.396232</td>\n",
       "    </tr>\n",
       "    <tr>\n",
       "      <th>999985</th>\n",
       "      <td>2</td>\n",
       "      <td>23</td>\n",
       "      <td>1541773991986</td>\n",
       "      <td>22.855992</td>\n",
       "      <td>10.892169</td>\n",
       "      <td>44.277367</td>\n",
       "    </tr>\n",
       "    <tr>\n",
       "      <th>999986</th>\n",
       "      <td>1</td>\n",
       "      <td>14</td>\n",
       "      <td>1541773993178</td>\n",
       "      <td>24.956702</td>\n",
       "      <td>11.517869</td>\n",
       "      <td>42.476258</td>\n",
       "    </tr>\n",
       "    <tr>\n",
       "      <th>999987</th>\n",
       "      <td>2</td>\n",
       "      <td>34</td>\n",
       "      <td>1541773993207</td>\n",
       "      <td>25.318315</td>\n",
       "      <td>11.884351</td>\n",
       "      <td>46.073794</td>\n",
       "    </tr>\n",
       "    <tr>\n",
       "      <th>999988</th>\n",
       "      <td>1</td>\n",
       "      <td>37</td>\n",
       "      <td>1541773993818</td>\n",
       "      <td>25.265209</td>\n",
       "      <td>12.538932</td>\n",
       "      <td>44.644925</td>\n",
       "    </tr>\n",
       "    <tr>\n",
       "      <th>999989</th>\n",
       "      <td>1</td>\n",
       "      <td>15</td>\n",
       "      <td>1541773994649</td>\n",
       "      <td>24.507642</td>\n",
       "      <td>7.833095</td>\n",
       "      <td>39.574438</td>\n",
       "    </tr>\n",
       "    <tr>\n",
       "      <th>999990</th>\n",
       "      <td>2</td>\n",
       "      <td>4</td>\n",
       "      <td>1541773995109</td>\n",
       "      <td>22.844811</td>\n",
       "      <td>15.054818</td>\n",
       "      <td>39.608529</td>\n",
       "    </tr>\n",
       "    <tr>\n",
       "      <th>999991</th>\n",
       "      <td>2</td>\n",
       "      <td>19</td>\n",
       "      <td>1541773995159</td>\n",
       "      <td>23.003391</td>\n",
       "      <td>13.692126</td>\n",
       "      <td>38.936253</td>\n",
       "    </tr>\n",
       "    <tr>\n",
       "      <th>999992</th>\n",
       "      <td>2</td>\n",
       "      <td>14</td>\n",
       "      <td>1541773996576</td>\n",
       "      <td>24.411630</td>\n",
       "      <td>15.033443</td>\n",
       "      <td>43.838340</td>\n",
       "    </tr>\n",
       "    <tr>\n",
       "      <th>999993</th>\n",
       "      <td>1</td>\n",
       "      <td>7</td>\n",
       "      <td>1541773996607</td>\n",
       "      <td>24.903591</td>\n",
       "      <td>8.988070</td>\n",
       "      <td>41.441638</td>\n",
       "    </tr>\n",
       "    <tr>\n",
       "      <th>999994</th>\n",
       "      <td>2</td>\n",
       "      <td>49</td>\n",
       "      <td>1541773997475</td>\n",
       "      <td>23.522665</td>\n",
       "      <td>10.048319</td>\n",
       "      <td>42.403377</td>\n",
       "    </tr>\n",
       "    <tr>\n",
       "      <th>999995</th>\n",
       "      <td>2</td>\n",
       "      <td>10</td>\n",
       "      <td>1541773998191</td>\n",
       "      <td>24.987539</td>\n",
       "      <td>12.242784</td>\n",
       "      <td>45.766058</td>\n",
       "    </tr>\n",
       "    <tr>\n",
       "      <th>999996</th>\n",
       "      <td>1</td>\n",
       "      <td>44</td>\n",
       "      <td>1541773998320</td>\n",
       "      <td>28.469920</td>\n",
       "      <td>8.260468</td>\n",
       "      <td>42.512081</td>\n",
       "    </tr>\n",
       "    <tr>\n",
       "      <th>999997</th>\n",
       "      <td>1</td>\n",
       "      <td>18</td>\n",
       "      <td>1541773999584</td>\n",
       "      <td>26.854658</td>\n",
       "      <td>8.575888</td>\n",
       "      <td>46.115398</td>\n",
       "    </tr>\n",
       "    <tr>\n",
       "      <th>999998</th>\n",
       "      <td>1</td>\n",
       "      <td>3</td>\n",
       "      <td>1541773999825</td>\n",
       "      <td>23.205554</td>\n",
       "      <td>7.610822</td>\n",
       "      <td>39.451027</td>\n",
       "    </tr>\n",
       "  </tbody>\n",
       "</table>\n",
       "<p>999999 rows × 6 columns</p>\n",
       "</div>"
      ],
      "text/plain": [
       "        1  48  1541019342393  25.983183481618322  14.65874116573845  \\\n",
       "0       1  24  1541019343497           22.545444           9.834895   \n",
       "1       2  39  1541019344356           24.324654          14.100638   \n",
       "2       2   1  1541019345216           25.658281          14.243132   \n",
       "3       2  20  1541019346515           26.836546          12.841558   \n",
       "4       1  24  1541019347200           24.960868          11.773728   \n",
       "5       1  35  1541019347966           23.702428           7.518410   \n",
       "6       1  32  1541019348864           24.041499          10.201932   \n",
       "7       2  47  1541019349485           27.085396           7.805625   \n",
       "8       1  12  1541019349819           20.633590          10.344878   \n",
       "9       1   4  1541019350783           23.012288           2.447689   \n",
       "10      2  36  1541019352265           25.273805          14.528335   \n",
       "11      1  30  1541019352643           24.553738          13.167511   \n",
       "12      1  11  1541019353023           25.793560           9.962966   \n",
       "13      2   3  1541019353767           25.948013          11.077008   \n",
       "14      2  21  1541019353986           23.696438          12.558778   \n",
       "15      1   2  1541019354868           24.051922           8.739450   \n",
       "16      1   1  1541019355684           25.262327          11.024762   \n",
       "17      1  41  1541019356464           22.503235           8.897087   \n",
       "18      2  49  1541019356770           22.690428           8.263274   \n",
       "19      1   3  1541019358064           26.122321          10.863384   \n",
       "20      2  17  1541019359250           27.381462          15.268321   \n",
       "21      2  20  1541019360023           22.519680          15.617182   \n",
       "22      2  42  1541019360307           26.438793           9.232628   \n",
       "23      2  32  1541019360551           22.340444           7.919727   \n",
       "24      2  33  1541019361596           21.137303          10.666780   \n",
       "25      2  38  1541019362269           25.252851           6.701798   \n",
       "26      2  30  1541019362826           25.207097           6.485804   \n",
       "27      1  45  1541019363921           25.985591           7.735055   \n",
       "28      1  25  1541019363964           25.578498           6.909944   \n",
       "29      1  12  1541019365252           26.621902           9.689433   \n",
       "...    ..  ..            ...                 ...                ...   \n",
       "999969  2  24  1541773977412           24.060148          14.663977   \n",
       "999970  2  48  1541773978832           25.655149          10.286990   \n",
       "999971  2  42  1541773980218           23.225700          11.680755   \n",
       "999972  1  15  1541773981137           29.386669          13.603086   \n",
       "999973  2   7  1541773981682           23.656975           9.583688   \n",
       "999974  1  39  1541773982049           25.525584           6.819388   \n",
       "999975  2  11  1541773983287           26.546601           9.417194   \n",
       "999976  1  39  1541773984279           27.035885           5.104834   \n",
       "999977  2  41  1541773985501           22.426917          10.266636   \n",
       "999978  2  49  1541773986874           24.246396          11.686802   \n",
       "999979  2   9  1541773988130           24.018065          14.349021   \n",
       "999980  1  42  1541773988413           27.064976           9.542234   \n",
       "999981  2   2  1541773989793           25.002696          13.474847   \n",
       "999982  2  32  1541773990916           25.228250          13.586325   \n",
       "999983  2   2  1541773991567           25.058928          10.938571   \n",
       "999984  2  22  1541773991687           25.080734           8.863801   \n",
       "999985  2  23  1541773991986           22.855992          10.892169   \n",
       "999986  1  14  1541773993178           24.956702          11.517869   \n",
       "999987  2  34  1541773993207           25.318315          11.884351   \n",
       "999988  1  37  1541773993818           25.265209          12.538932   \n",
       "999989  1  15  1541773994649           24.507642           7.833095   \n",
       "999990  2   4  1541773995109           22.844811          15.054818   \n",
       "999991  2  19  1541773995159           23.003391          13.692126   \n",
       "999992  2  14  1541773996576           24.411630          15.033443   \n",
       "999993  1   7  1541773996607           24.903591           8.988070   \n",
       "999994  2  49  1541773997475           23.522665          10.048319   \n",
       "999995  2  10  1541773998191           24.987539          12.242784   \n",
       "999996  1  44  1541773998320           28.469920           8.260468   \n",
       "999997  1  18  1541773999584           26.854658           8.575888   \n",
       "999998  1   3  1541773999825           23.205554           7.610822   \n",
       "\n",
       "        48.908846094198  \n",
       "0             39.065559  \n",
       "1             44.398837  \n",
       "2             45.291255  \n",
       "3             48.700130  \n",
       "4             42.161830  \n",
       "5             40.792013  \n",
       "6             41.664663  \n",
       "7             45.607395  \n",
       "8             37.514075  \n",
       "9             34.796619  \n",
       "10            46.721777  \n",
       "11            45.717600  \n",
       "12            43.576293  \n",
       "13            44.537060  \n",
       "14            42.112294  \n",
       "15            39.379728  \n",
       "16            41.477078  \n",
       "17            40.090626  \n",
       "18            40.769616  \n",
       "19            43.677045  \n",
       "20            49.689531  \n",
       "21            40.178447  \n",
       "22            42.915167  \n",
       "23            38.392042  \n",
       "24            38.464658  \n",
       "25            41.873143  \n",
       "26            38.226497  \n",
       "27            41.493922  \n",
       "28            40.930842  \n",
       "29            44.749653  \n",
       "...                 ...  \n",
       "999969        43.264698  \n",
       "999970        43.373358  \n",
       "999971        41.804606  \n",
       "999972        49.396602  \n",
       "999973        39.819744  \n",
       "999974        42.501481  \n",
       "999975        44.872562  \n",
       "999976        44.228640  \n",
       "999977        39.951378  \n",
       "999978        39.719670  \n",
       "999979        42.725063  \n",
       "999980        46.278950  \n",
       "999981        44.322779  \n",
       "999982        47.565071  \n",
       "999983        41.931128  \n",
       "999984        40.396232  \n",
       "999985        44.277367  \n",
       "999986        42.476258  \n",
       "999987        46.073794  \n",
       "999988        44.644925  \n",
       "999989        39.574438  \n",
       "999990        39.608529  \n",
       "999991        38.936253  \n",
       "999992        43.838340  \n",
       "999993        41.441638  \n",
       "999994        42.403377  \n",
       "999995        45.766058  \n",
       "999996        42.512081  \n",
       "999997        46.115398  \n",
       "999998        39.451027  \n",
       "\n",
       "[999999 rows x 6 columns]"
      ]
     },
     "execution_count": 24,
     "metadata": {},
     "output_type": "execute_result"
    }
   ],
   "source": [
    "import pandas as pd\n",
    "df = pd.read_csv(\"assets/sample_IOT_table.csv\")\n",
    "df"
   ]
  },
  {
   "cell_type": "markdown",
   "metadata": {},
   "source": [
    "### Examine the data types"
   ]
  },
  {
   "cell_type": "code",
   "execution_count": 25,
   "metadata": {
    "collapsed": false
   },
   "outputs": [
    {
     "data": {
      "text/plain": [
       "1                       int64\n",
       "48                      int64\n",
       "1541019342393           int64\n",
       "25.983183481618322    float64\n",
       "14.65874116573845     float64\n",
       "48.908846094198       float64\n",
       "dtype: object"
      ]
     },
     "execution_count": 25,
     "metadata": {},
     "output_type": "execute_result"
    }
   ],
   "source": [
    "df.dtypes"
   ]
  },
  {
   "cell_type": "markdown",
   "metadata": {},
   "source": [
    "### Batch insert the data from the DataFrame into the table"
   ]
  },
  {
   "cell_type": "code",
   "execution_count": 26,
   "metadata": {
    "collapsed": false
   },
   "outputs": [],
   "source": [
    "ctx.batch_insert(resolved_table_schema, df.to_records(index=False).tolist())"
   ]
  },
  {
   "cell_type": "markdown",
   "metadata": {},
   "source": [
    "## Summary\n",
    "In this notebook, you learned how to:\n",
    "- Connect to IBM Db2 Event Store\n",
    "- Create a new database\n",
    "- Open a database\n",
    "- Define a table schema and an index schema\n",
    "- Create a database table with an index\n",
    "- List the tables in a database and their schemas\n",
    "- Insert data into a table from a CSV file"
   ]
  },
  {
   "cell_type": "markdown",
   "metadata": {},
   "source": [
    "<p><font size=-1 color=gray>\n",
    "&copy; Copyright 2019 IBM Corp. All Rights Reserved.\n",
    "<p>\n",
    "Licensed under the Apache License, Version 2.0 (the \"License\"); you may not use this file\n",
    "except in compliance with the License. You may obtain a copy of the License at\n",
    "https://www.apache.org/licenses/LICENSE-2.0\n",
    "Unless required by applicable law or agreed to in writing, software distributed under the\n",
    "License is distributed on an \"AS IS\" BASIS, WITHOUT WARRANTIES OR CONDITIONS OF ANY KIND, either\n",
    "express or implied. See the License for the specific language governing permissions and\n",
    "limitations under the License.\n",
    "</font></p>"
   ]
  }
 ],
 "metadata": {
  "kernelspec": {
   "display_name": "Python 3",
   "language": "python",
   "name": "python3"
  },
  "language_info": {
   "codemirror_mode": {
    "name": "ipython",
    "version": 3
   },
   "file_extension": ".py",
   "mimetype": "text/x-python",
   "name": "python",
   "nbconvert_exporter": "python",
   "pygments_lexer": "ipython3",
   "version": "3.5.3"
  }
 },
 "nbformat": 4,
 "nbformat_minor": 2
}
